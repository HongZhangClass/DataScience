{
 "cells": [
  {
   "cell_type": "markdown",
   "metadata": {},
   "source": [
    "# Information Retrieval"
   ]
  },
  {
   "cell_type": "markdown",
   "metadata": {},
   "source": [
    "Process:<br>\n",
    "1.Read Hadith Text Documents<br>\n",
    "2.Extract Word<br>\n",
    "3.Remove stopword – Stopword List<br>\n",
    "4.Stem Word – Morphological rules, root word dictionary<br>\n",
    "5.TF-IDF Process<br>\n",
    "6.TF-IDF Matrix<br>\n",
    "7.Similarity Measure (cosine similarity measure)<br>\n",
    "8.Similarity Matrix<br>\n",
    "9.Clustering ( single linkage hierarchical clustering, complete linkage hierarchical clustering)<br>"
   ]
  },
  {
   "cell_type": "markdown",
   "metadata": {},
   "source": [
    "## 1. Read file from folder '2028_HadithTextDocuments'"
   ]
  },
  {
   "cell_type": "code",
   "execution_count": 3,
   "metadata": {
    "collapsed": false
   },
   "outputs": [],
   "source": [
    "path = '2028_HadithTextDocuments/'\n",
    "with open('DataHadith.txt', 'w') as writes:\n",
    "\n",
    "\tfor i in range(1,2029):\n",
    "\n",
    "\t\tname = path+''\n",
    "\t\tif i < 10:\n",
    "\t\t\tname= name+'H000'+str(i)+'BJ1.txt'\n",
    "\t\telif i < 100:\n",
    "\t\t\tname= name+'H00'+str(i)+'BJ1.txt'\n",
    "\t\telif i < 526:\n",
    "\t\t\tname= name+'H0'+str(i)+'BJ1.txt'\n",
    "\t\telif i < 1000:\n",
    "\t\t\tname= name+'H0'+str(i)+'BJ2.txt'\n",
    "\t\telif i < 1126:\n",
    "\t\t\tname= name+'H'+str(i)+'BJ2.txt'\n",
    "\t\telif i < 1582:\n",
    "\t\t\tname= name+'H'+str(i)+'BJ3.txt'\n",
    "\t\telse:\n",
    "\t\t\tname= name+'H'+str(i)+'BJ4.txt'\n",
    "\n",
    "\t\twith open(name, 'r', encoding='utf-8', errors='ignore') as file:\n",
    "\t\t\tcont = file.read().split('\\r\\n')\n",
    "\t\t\twrites.write((','.join(cont)))"
   ]
  },
  {
   "cell_type": "markdown",
   "metadata": {},
   "source": [
    "After that you need to remove the newline in the 'DataHadith.txt', make sure that it only have 2028 row. Because right now, it has more than that because there are certain hadith that have many lines."
   ]
  },
  {
   "cell_type": "markdown",
   "metadata": {},
   "source": [
    "## 1.1 Remove the number at the in front"
   ]
  },
  {
   "cell_type": "markdown",
   "metadata": {},
   "source": [
    "To remove, using regular expressions to make the process faster. I am using Sublime which support regex, so just paste this<br>\n",
    "<blockquote>^[^\\s]+\\s</blockquote>\n",
    "<br>in the input for find. And replace just let it blank."
   ]
  },
  {
   "cell_type": "markdown",
   "metadata": {},
   "source": [
    "\n"
   ]
  },
  {
   "cell_type": "markdown",
   "metadata": {},
   "source": [
    "\n"
   ]
  },
  {
   "cell_type": "markdown",
   "metadata": {},
   "source": [
    "## 2. Extract Word"
   ]
  },
  {
   "cell_type": "markdown",
   "metadata": {},
   "source": [
    "In order to extract the word, we need to remove all the non alphabet character first."
   ]
  },
  {
   "cell_type": "code",
   "execution_count": null,
   "metadata": {
    "collapsed": true
   },
   "outputs": [],
   "source": []
  },
  {
   "cell_type": "code",
   "execution_count": null,
   "metadata": {
    "collapsed": true
   },
   "outputs": [],
   "source": []
  },
  {
   "cell_type": "code",
   "execution_count": null,
   "metadata": {
    "collapsed": true
   },
   "outputs": [],
   "source": []
  },
  {
   "cell_type": "code",
   "execution_count": null,
   "metadata": {
    "collapsed": true
   },
   "outputs": [],
   "source": []
  },
  {
   "cell_type": "markdown",
   "metadata": {},
   "source": [
    "## 3. Remove stopword - Sropword List"
   ]
  },
  {
   "cell_type": "code",
   "execution_count": null,
   "metadata": {
    "collapsed": true
   },
   "outputs": [],
   "source": []
  },
  {
   "cell_type": "code",
   "execution_count": null,
   "metadata": {
    "collapsed": true
   },
   "outputs": [],
   "source": []
  },
  {
   "cell_type": "code",
   "execution_count": null,
   "metadata": {
    "collapsed": true
   },
   "outputs": [],
   "source": []
  },
  {
   "cell_type": "code",
   "execution_count": null,
   "metadata": {
    "collapsed": true
   },
   "outputs": [],
   "source": []
  },
  {
   "cell_type": "markdown",
   "metadata": {},
   "source": [
    "## 4. Stem Word"
   ]
  },
  {
   "cell_type": "code",
   "execution_count": 4,
   "metadata": {
    "collapsed": true
   },
   "outputs": [],
   "source": [
    "# Stem process \n",
    "\n",
    "# Step 1\n",
    "# Check input word against the word dictionary\n",
    "#     If the word is found in the dictionary, then\n",
    "#         Output the word as root word\n",
    "#     Else,\n",
    "#         Go to Step 2\n",
    "\n",
    "# Step 2\n",
    "# Check input word for any prefix\n",
    "#     If the word has a prefix, then\n",
    "#         Remove the prefix and go to Step 1\n",
    "#     Else,\n",
    "#         Go to Step 3\n",
    "\n",
    "# Step 3\n",
    "# Check input word for any suffix\n",
    "#     If the word has a suffix, then\n",
    "#         Remove the suffix and go to Step 1\n",
    "#     Else,\n",
    "#         Go to Step 4\n",
    "\n",
    "# Step 4\n",
    "# Check input word for any infix\n",
    "#     If the word has a infix, then\n",
    "#         Remove the infix and go to Step 1\n",
    "#     Else,\n",
    "#         Go to Step 5\n",
    "\n",
    "# Step 5\n",
    "# Check stemmed word for its first letter\n",
    "#     If the first letter starts with ‘m’, then\n",
    "#         Replace the first letter with ‘p’ or ‘f’ and go to Step 1\n",
    "#     If the first letter starts with ‘n’, then\n",
    "#         Replace the first letter with ‘t’ and go to Step 1\n",
    "#     If the first letter starts with ‘y’, then\n",
    "#         Replace the first letter with ‘s’ and go to Step 1\n",
    "#     If the first letter starts with a vowel, then\n",
    "#         Add ‘k’ as the first letter and go to Step 1\n",
    "#     Else,\n",
    "#         Root word could not be found and the program terminates\n",
    "\n",
    "\n",
    "# Reference : http://citeseerx.ist.psu.edu/viewdoc/download?doi=10.1.1.101.3519&rep=rep1&type=pdf"
   ]
  },
  {
   "cell_type": "code",
   "execution_count": null,
   "metadata": {
    "collapsed": true
   },
   "outputs": [],
   "source": []
  },
  {
   "cell_type": "code",
   "execution_count": null,
   "metadata": {
    "collapsed": true
   },
   "outputs": [],
   "source": []
  },
  {
   "cell_type": "code",
   "execution_count": null,
   "metadata": {
    "collapsed": true
   },
   "outputs": [],
   "source": []
  },
  {
   "cell_type": "code",
   "execution_count": null,
   "metadata": {
    "collapsed": true
   },
   "outputs": [],
   "source": []
  },
  {
   "cell_type": "markdown",
   "metadata": {},
   "source": [
    "## 5. TF-IDF Process"
   ]
  },
  {
   "cell_type": "code",
   "execution_count": null,
   "metadata": {
    "collapsed": true
   },
   "outputs": [],
   "source": [
    "\n"
   ]
  },
  {
   "cell_type": "code",
   "execution_count": null,
   "metadata": {
    "collapsed": true
   },
   "outputs": [],
   "source": []
  },
  {
   "cell_type": "code",
   "execution_count": null,
   "metadata": {
    "collapsed": true
   },
   "outputs": [],
   "source": []
  },
  {
   "cell_type": "code",
   "execution_count": null,
   "metadata": {
    "collapsed": true
   },
   "outputs": [],
   "source": []
  },
  {
   "cell_type": "code",
   "execution_count": null,
   "metadata": {
    "collapsed": true
   },
   "outputs": [],
   "source": []
  },
  {
   "cell_type": "markdown",
   "metadata": {},
   "source": [
    "## 6 TF-IDF Matrix"
   ]
  },
  {
   "cell_type": "code",
   "execution_count": null,
   "metadata": {
    "collapsed": true
   },
   "outputs": [],
   "source": []
  },
  {
   "cell_type": "code",
   "execution_count": null,
   "metadata": {
    "collapsed": true
   },
   "outputs": [],
   "source": []
  },
  {
   "cell_type": "code",
   "execution_count": null,
   "metadata": {
    "collapsed": true
   },
   "outputs": [],
   "source": []
  },
  {
   "cell_type": "code",
   "execution_count": null,
   "metadata": {
    "collapsed": true
   },
   "outputs": [],
   "source": []
  },
  {
   "cell_type": "code",
   "execution_count": null,
   "metadata": {
    "collapsed": true
   },
   "outputs": [],
   "source": []
  },
  {
   "cell_type": "code",
   "execution_count": null,
   "metadata": {
    "collapsed": true
   },
   "outputs": [],
   "source": []
  },
  {
   "cell_type": "markdown",
   "metadata": {},
   "source": [
    "## 7. Similarity Measure (cosine similarity measure)"
   ]
  },
  {
   "cell_type": "code",
   "execution_count": null,
   "metadata": {
    "collapsed": true
   },
   "outputs": [],
   "source": []
  },
  {
   "cell_type": "code",
   "execution_count": null,
   "metadata": {
    "collapsed": true
   },
   "outputs": [],
   "source": []
  },
  {
   "cell_type": "code",
   "execution_count": null,
   "metadata": {
    "collapsed": true
   },
   "outputs": [],
   "source": []
  },
  {
   "cell_type": "code",
   "execution_count": null,
   "metadata": {
    "collapsed": true
   },
   "outputs": [],
   "source": []
  },
  {
   "cell_type": "markdown",
   "metadata": {},
   "source": [
    "## 8. Similarity Matrix"
   ]
  },
  {
   "cell_type": "code",
   "execution_count": null,
   "metadata": {
    "collapsed": true
   },
   "outputs": [],
   "source": []
  },
  {
   "cell_type": "code",
   "execution_count": null,
   "metadata": {
    "collapsed": true
   },
   "outputs": [],
   "source": []
  },
  {
   "cell_type": "code",
   "execution_count": null,
   "metadata": {
    "collapsed": true
   },
   "outputs": [],
   "source": []
  },
  {
   "cell_type": "code",
   "execution_count": null,
   "metadata": {
    "collapsed": true
   },
   "outputs": [],
   "source": []
  },
  {
   "cell_type": "markdown",
   "metadata": {},
   "source": [
    "## 9. Clustering"
   ]
  },
  {
   "cell_type": "markdown",
   "metadata": {},
   "source": [
    "Single linkage hierarchical clustering, complete linkage hierarchical clustering"
   ]
  },
  {
   "cell_type": "code",
   "execution_count": null,
   "metadata": {
    "collapsed": true
   },
   "outputs": [],
   "source": []
  }
 ],
 "metadata": {
  "kernelspec": {
   "display_name": "Python 3",
   "language": "python",
   "name": "python3"
  },
  "language_info": {
   "codemirror_mode": {
    "name": "ipython",
    "version": 3
   },
   "file_extension": ".py",
   "mimetype": "text/x-python",
   "name": "python",
   "nbconvert_exporter": "python",
   "pygments_lexer": "ipython3",
   "version": "3.4.3"
  }
 },
 "nbformat": 4,
 "nbformat_minor": 1
}
