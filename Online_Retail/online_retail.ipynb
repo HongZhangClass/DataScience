{
 "cells": [
  {
   "cell_type": "markdown",
   "metadata": {},
   "source": [
    "# <center><u>Online Retail</u></center>"
   ]
  },
  {
   "cell_type": "markdown",
   "metadata": {},
   "source": [
    "# <b>Introduction</b>"
   ]
  },
  {
   "cell_type": "markdown",
   "metadata": {},
   "source": [
    "LINK : https://archive.ics.uci.edu/ml/datasets/Online+Retail\n",
    "\n",
    "This is a transnational data set which contains all the transactions occurring between 01/12/2010 and 09/12/2011 for a UK-based and registered non-store online retail. The company mainly sells unique all-occasion gifts. Many customers of the company are wholesalers."
   ]
  },
  {
   "cell_type": "markdown",
   "metadata": {},
   "source": [
    "\n"
   ]
  },
  {
   "cell_type": "markdown",
   "metadata": {},
   "source": [
    "# <b>Attribute Information</b>"
   ]
  },
  {
   "cell_type": "markdown",
   "metadata": {},
   "source": [
    "<b>InvoiceNo</b>: Invoice number. Nominal, a 6-digit integral number uniquely assigned to each transaction. If this code starts with letter 'c', it indicates a cancellation.\n",
    "\n",
    "<b>StockCode</b>: Product (item) code. Nominal, a 5-digit integral number uniquely assigned to each distinct product.\n",
    "\n",
    "<b>Description</b>: Product (item) name. Nominal.\n",
    "\n",
    "<b>Quantity</b>: The quantities of each product (item) per transaction. Numeric.\n",
    "\n",
    "<b>InvoiceDate</b>: Invice Date and time. Numeric, the day and time when each transaction was generated.\n",
    "\n",
    "<b>UnitPrice</b>: Unit price. Numeric, Product price per unit in sterling.\n",
    "\n",
    "<b>CustomerID</b>: Customer number. Nominal, a 5-digit integral number uniquely assigned to each customer.\n",
    "\n",
    "<b>Country</b>: Country name. Nominal, the name of the country where each customer resides.\n",
    "\n"
   ]
  },
  {
   "cell_type": "markdown",
   "metadata": {},
   "source": [
    "\n"
   ]
  },
  {
   "cell_type": "markdown",
   "metadata": {},
   "source": [
    "# Sample Dataset"
   ]
  },
  {
   "cell_type": "markdown",
   "metadata": {},
   "source": [
    "Import Pandas library in order to convert the file xlsx into csv format."
   ]
  },
  {
   "cell_type": "code",
   "execution_count": 3,
   "metadata": {
    "collapsed": false
   },
   "outputs": [],
   "source": [
    "%matplotlib inline\n",
    "\n",
    "import pandas as pd\n",
    "import matplotlib as mpl\n",
    "import matplotlib.pyplot as plt"
   ]
  },
  {
   "cell_type": "code",
   "execution_count": 4,
   "metadata": {
    "collapsed": true
   },
   "outputs": [],
   "source": [
    "data_xls = pd.read_excel('online_retail.xlsx', 0, index_col=None)\n",
    "data_xls.to_csv('online_retail_ori.csv', encoding='utf-8')"
   ]
  },
  {
   "cell_type": "markdown",
   "metadata": {},
   "source": [
    "\n"
   ]
  },
  {
   "cell_type": "markdown",
   "metadata": {},
   "source": [
    "<b>Read CSV file</b>"
   ]
  },
  {
   "cell_type": "code",
   "execution_count": 5,
   "metadata": {
    "collapsed": true
   },
   "outputs": [],
   "source": [
    "df = pd.read_csv('online_retail_ori.csv', encoding='utf-8')"
   ]
  },
  {
   "cell_type": "markdown",
   "metadata": {},
   "source": [
    "View the dimension of the data and sample of the data"
   ]
  },
  {
   "cell_type": "code",
   "execution_count": 6,
   "metadata": {
    "collapsed": false
   },
   "outputs": [
    {
     "data": {
      "text/plain": [
       "(541909, 9)"
      ]
     },
     "execution_count": 6,
     "metadata": {},
     "output_type": "execute_result"
    }
   ],
   "source": [
    "df.shape"
   ]
  },
  {
   "cell_type": "code",
   "execution_count": 7,
   "metadata": {
    "collapsed": false
   },
   "outputs": [
    {
     "data": {
      "text/html": [
       "<div>\n",
       "<table border=\"1\" class=\"dataframe\">\n",
       "  <thead>\n",
       "    <tr style=\"text-align: right;\">\n",
       "      <th></th>\n",
       "      <th>Unnamed: 0</th>\n",
       "      <th>InvoiceNo</th>\n",
       "      <th>StockCode</th>\n",
       "      <th>Description</th>\n",
       "      <th>Quantity</th>\n",
       "      <th>InvoiceDate</th>\n",
       "      <th>UnitPrice</th>\n",
       "      <th>CustomerID</th>\n",
       "      <th>Country</th>\n",
       "    </tr>\n",
       "  </thead>\n",
       "  <tbody>\n",
       "    <tr>\n",
       "      <th>0</th>\n",
       "      <td>0</td>\n",
       "      <td>536365</td>\n",
       "      <td>85123A</td>\n",
       "      <td>WHITE HANGING HEART T-LIGHT HOLDER</td>\n",
       "      <td>6</td>\n",
       "      <td>2010-12-01 08:26:00</td>\n",
       "      <td>2.55</td>\n",
       "      <td>17850.0</td>\n",
       "      <td>United Kingdom</td>\n",
       "    </tr>\n",
       "    <tr>\n",
       "      <th>1</th>\n",
       "      <td>1</td>\n",
       "      <td>536365</td>\n",
       "      <td>71053</td>\n",
       "      <td>WHITE METAL LANTERN</td>\n",
       "      <td>6</td>\n",
       "      <td>2010-12-01 08:26:00</td>\n",
       "      <td>3.39</td>\n",
       "      <td>17850.0</td>\n",
       "      <td>United Kingdom</td>\n",
       "    </tr>\n",
       "    <tr>\n",
       "      <th>2</th>\n",
       "      <td>2</td>\n",
       "      <td>536365</td>\n",
       "      <td>84406B</td>\n",
       "      <td>CREAM CUPID HEARTS COAT HANGER</td>\n",
       "      <td>8</td>\n",
       "      <td>2010-12-01 08:26:00</td>\n",
       "      <td>2.75</td>\n",
       "      <td>17850.0</td>\n",
       "      <td>United Kingdom</td>\n",
       "    </tr>\n",
       "    <tr>\n",
       "      <th>3</th>\n",
       "      <td>3</td>\n",
       "      <td>536365</td>\n",
       "      <td>84029G</td>\n",
       "      <td>KNITTED UNION FLAG HOT WATER BOTTLE</td>\n",
       "      <td>6</td>\n",
       "      <td>2010-12-01 08:26:00</td>\n",
       "      <td>3.39</td>\n",
       "      <td>17850.0</td>\n",
       "      <td>United Kingdom</td>\n",
       "    </tr>\n",
       "    <tr>\n",
       "      <th>4</th>\n",
       "      <td>4</td>\n",
       "      <td>536365</td>\n",
       "      <td>84029E</td>\n",
       "      <td>RED WOOLLY HOTTIE WHITE HEART.</td>\n",
       "      <td>6</td>\n",
       "      <td>2010-12-01 08:26:00</td>\n",
       "      <td>3.39</td>\n",
       "      <td>17850.0</td>\n",
       "      <td>United Kingdom</td>\n",
       "    </tr>\n",
       "    <tr>\n",
       "      <th>5</th>\n",
       "      <td>5</td>\n",
       "      <td>536365</td>\n",
       "      <td>22752</td>\n",
       "      <td>SET 7 BABUSHKA NESTING BOXES</td>\n",
       "      <td>2</td>\n",
       "      <td>2010-12-01 08:26:00</td>\n",
       "      <td>7.65</td>\n",
       "      <td>17850.0</td>\n",
       "      <td>United Kingdom</td>\n",
       "    </tr>\n",
       "    <tr>\n",
       "      <th>6</th>\n",
       "      <td>6</td>\n",
       "      <td>536365</td>\n",
       "      <td>21730</td>\n",
       "      <td>GLASS STAR FROSTED T-LIGHT HOLDER</td>\n",
       "      <td>6</td>\n",
       "      <td>2010-12-01 08:26:00</td>\n",
       "      <td>4.25</td>\n",
       "      <td>17850.0</td>\n",
       "      <td>United Kingdom</td>\n",
       "    </tr>\n",
       "    <tr>\n",
       "      <th>7</th>\n",
       "      <td>7</td>\n",
       "      <td>536366</td>\n",
       "      <td>22633</td>\n",
       "      <td>HAND WARMER UNION JACK</td>\n",
       "      <td>6</td>\n",
       "      <td>2010-12-01 08:28:00</td>\n",
       "      <td>1.85</td>\n",
       "      <td>17850.0</td>\n",
       "      <td>United Kingdom</td>\n",
       "    </tr>\n",
       "    <tr>\n",
       "      <th>8</th>\n",
       "      <td>8</td>\n",
       "      <td>536366</td>\n",
       "      <td>22632</td>\n",
       "      <td>HAND WARMER RED POLKA DOT</td>\n",
       "      <td>6</td>\n",
       "      <td>2010-12-01 08:28:00</td>\n",
       "      <td>1.85</td>\n",
       "      <td>17850.0</td>\n",
       "      <td>United Kingdom</td>\n",
       "    </tr>\n",
       "    <tr>\n",
       "      <th>9</th>\n",
       "      <td>9</td>\n",
       "      <td>536367</td>\n",
       "      <td>84879</td>\n",
       "      <td>ASSORTED COLOUR BIRD ORNAMENT</td>\n",
       "      <td>32</td>\n",
       "      <td>2010-12-01 08:34:00</td>\n",
       "      <td>1.69</td>\n",
       "      <td>13047.0</td>\n",
       "      <td>United Kingdom</td>\n",
       "    </tr>\n",
       "    <tr>\n",
       "      <th>10</th>\n",
       "      <td>10</td>\n",
       "      <td>536367</td>\n",
       "      <td>22745</td>\n",
       "      <td>POPPY'S PLAYHOUSE BEDROOM</td>\n",
       "      <td>6</td>\n",
       "      <td>2010-12-01 08:34:00</td>\n",
       "      <td>2.10</td>\n",
       "      <td>13047.0</td>\n",
       "      <td>United Kingdom</td>\n",
       "    </tr>\n",
       "    <tr>\n",
       "      <th>11</th>\n",
       "      <td>11</td>\n",
       "      <td>536367</td>\n",
       "      <td>22748</td>\n",
       "      <td>POPPY'S PLAYHOUSE KITCHEN</td>\n",
       "      <td>6</td>\n",
       "      <td>2010-12-01 08:34:00</td>\n",
       "      <td>2.10</td>\n",
       "      <td>13047.0</td>\n",
       "      <td>United Kingdom</td>\n",
       "    </tr>\n",
       "    <tr>\n",
       "      <th>12</th>\n",
       "      <td>12</td>\n",
       "      <td>536367</td>\n",
       "      <td>22749</td>\n",
       "      <td>FELTCRAFT PRINCESS CHARLOTTE DOLL</td>\n",
       "      <td>8</td>\n",
       "      <td>2010-12-01 08:34:00</td>\n",
       "      <td>3.75</td>\n",
       "      <td>13047.0</td>\n",
       "      <td>United Kingdom</td>\n",
       "    </tr>\n",
       "    <tr>\n",
       "      <th>13</th>\n",
       "      <td>13</td>\n",
       "      <td>536367</td>\n",
       "      <td>22310</td>\n",
       "      <td>IVORY KNITTED MUG COSY</td>\n",
       "      <td>6</td>\n",
       "      <td>2010-12-01 08:34:00</td>\n",
       "      <td>1.65</td>\n",
       "      <td>13047.0</td>\n",
       "      <td>United Kingdom</td>\n",
       "    </tr>\n",
       "    <tr>\n",
       "      <th>14</th>\n",
       "      <td>14</td>\n",
       "      <td>536367</td>\n",
       "      <td>84969</td>\n",
       "      <td>BOX OF 6 ASSORTED COLOUR TEASPOONS</td>\n",
       "      <td>6</td>\n",
       "      <td>2010-12-01 08:34:00</td>\n",
       "      <td>4.25</td>\n",
       "      <td>13047.0</td>\n",
       "      <td>United Kingdom</td>\n",
       "    </tr>\n",
       "    <tr>\n",
       "      <th>15</th>\n",
       "      <td>15</td>\n",
       "      <td>536367</td>\n",
       "      <td>22623</td>\n",
       "      <td>BOX OF VINTAGE JIGSAW BLOCKS</td>\n",
       "      <td>3</td>\n",
       "      <td>2010-12-01 08:34:00</td>\n",
       "      <td>4.95</td>\n",
       "      <td>13047.0</td>\n",
       "      <td>United Kingdom</td>\n",
       "    </tr>\n",
       "    <tr>\n",
       "      <th>16</th>\n",
       "      <td>16</td>\n",
       "      <td>536367</td>\n",
       "      <td>22622</td>\n",
       "      <td>BOX OF VINTAGE ALPHABET BLOCKS</td>\n",
       "      <td>2</td>\n",
       "      <td>2010-12-01 08:34:00</td>\n",
       "      <td>9.95</td>\n",
       "      <td>13047.0</td>\n",
       "      <td>United Kingdom</td>\n",
       "    </tr>\n",
       "    <tr>\n",
       "      <th>17</th>\n",
       "      <td>17</td>\n",
       "      <td>536367</td>\n",
       "      <td>21754</td>\n",
       "      <td>HOME BUILDING BLOCK WORD</td>\n",
       "      <td>3</td>\n",
       "      <td>2010-12-01 08:34:00</td>\n",
       "      <td>5.95</td>\n",
       "      <td>13047.0</td>\n",
       "      <td>United Kingdom</td>\n",
       "    </tr>\n",
       "    <tr>\n",
       "      <th>18</th>\n",
       "      <td>18</td>\n",
       "      <td>536367</td>\n",
       "      <td>21755</td>\n",
       "      <td>LOVE BUILDING BLOCK WORD</td>\n",
       "      <td>3</td>\n",
       "      <td>2010-12-01 08:34:00</td>\n",
       "      <td>5.95</td>\n",
       "      <td>13047.0</td>\n",
       "      <td>United Kingdom</td>\n",
       "    </tr>\n",
       "    <tr>\n",
       "      <th>19</th>\n",
       "      <td>19</td>\n",
       "      <td>536367</td>\n",
       "      <td>21777</td>\n",
       "      <td>RECIPE BOX WITH METAL HEART</td>\n",
       "      <td>4</td>\n",
       "      <td>2010-12-01 08:34:00</td>\n",
       "      <td>7.95</td>\n",
       "      <td>13047.0</td>\n",
       "      <td>United Kingdom</td>\n",
       "    </tr>\n",
       "  </tbody>\n",
       "</table>\n",
       "</div>"
      ],
      "text/plain": [
       "    Unnamed: 0 InvoiceNo StockCode                          Description  \\\n",
       "0            0    536365    85123A   WHITE HANGING HEART T-LIGHT HOLDER   \n",
       "1            1    536365     71053                  WHITE METAL LANTERN   \n",
       "2            2    536365    84406B       CREAM CUPID HEARTS COAT HANGER   \n",
       "3            3    536365    84029G  KNITTED UNION FLAG HOT WATER BOTTLE   \n",
       "4            4    536365    84029E       RED WOOLLY HOTTIE WHITE HEART.   \n",
       "5            5    536365     22752         SET 7 BABUSHKA NESTING BOXES   \n",
       "6            6    536365     21730    GLASS STAR FROSTED T-LIGHT HOLDER   \n",
       "7            7    536366     22633               HAND WARMER UNION JACK   \n",
       "8            8    536366     22632            HAND WARMER RED POLKA DOT   \n",
       "9            9    536367     84879        ASSORTED COLOUR BIRD ORNAMENT   \n",
       "10          10    536367     22745           POPPY'S PLAYHOUSE BEDROOM    \n",
       "11          11    536367     22748            POPPY'S PLAYHOUSE KITCHEN   \n",
       "12          12    536367     22749    FELTCRAFT PRINCESS CHARLOTTE DOLL   \n",
       "13          13    536367     22310              IVORY KNITTED MUG COSY    \n",
       "14          14    536367     84969   BOX OF 6 ASSORTED COLOUR TEASPOONS   \n",
       "15          15    536367     22623        BOX OF VINTAGE JIGSAW BLOCKS    \n",
       "16          16    536367     22622       BOX OF VINTAGE ALPHABET BLOCKS   \n",
       "17          17    536367     21754             HOME BUILDING BLOCK WORD   \n",
       "18          18    536367     21755             LOVE BUILDING BLOCK WORD   \n",
       "19          19    536367     21777          RECIPE BOX WITH METAL HEART   \n",
       "\n",
       "    Quantity          InvoiceDate  UnitPrice  CustomerID         Country  \n",
       "0          6  2010-12-01 08:26:00       2.55     17850.0  United Kingdom  \n",
       "1          6  2010-12-01 08:26:00       3.39     17850.0  United Kingdom  \n",
       "2          8  2010-12-01 08:26:00       2.75     17850.0  United Kingdom  \n",
       "3          6  2010-12-01 08:26:00       3.39     17850.0  United Kingdom  \n",
       "4          6  2010-12-01 08:26:00       3.39     17850.0  United Kingdom  \n",
       "5          2  2010-12-01 08:26:00       7.65     17850.0  United Kingdom  \n",
       "6          6  2010-12-01 08:26:00       4.25     17850.0  United Kingdom  \n",
       "7          6  2010-12-01 08:28:00       1.85     17850.0  United Kingdom  \n",
       "8          6  2010-12-01 08:28:00       1.85     17850.0  United Kingdom  \n",
       "9         32  2010-12-01 08:34:00       1.69     13047.0  United Kingdom  \n",
       "10         6  2010-12-01 08:34:00       2.10     13047.0  United Kingdom  \n",
       "11         6  2010-12-01 08:34:00       2.10     13047.0  United Kingdom  \n",
       "12         8  2010-12-01 08:34:00       3.75     13047.0  United Kingdom  \n",
       "13         6  2010-12-01 08:34:00       1.65     13047.0  United Kingdom  \n",
       "14         6  2010-12-01 08:34:00       4.25     13047.0  United Kingdom  \n",
       "15         3  2010-12-01 08:34:00       4.95     13047.0  United Kingdom  \n",
       "16         2  2010-12-01 08:34:00       9.95     13047.0  United Kingdom  \n",
       "17         3  2010-12-01 08:34:00       5.95     13047.0  United Kingdom  \n",
       "18         3  2010-12-01 08:34:00       5.95     13047.0  United Kingdom  \n",
       "19         4  2010-12-01 08:34:00       7.95     13047.0  United Kingdom  "
      ]
     },
     "execution_count": 7,
     "metadata": {},
     "output_type": "execute_result"
    }
   ],
   "source": [
    "df.head(20)"
   ]
  },
  {
   "cell_type": "markdown",
   "metadata": {},
   "source": [
    "There 541909 rows with 9 columns(variables)."
   ]
  },
  {
   "cell_type": "code",
   "execution_count": 8,
   "metadata": {
    "collapsed": false
   },
   "outputs": [
    {
     "name": "stderr",
     "output_type": "stream",
     "text": [
      "c:\\users\\commander\\appdata\\local\\programs\\python\\python35-32\\lib\\site-packages\\numpy\\lib\\function_base.py:3835: RuntimeWarning: Invalid value encountered in percentile\n",
      "  RuntimeWarning)\n"
     ]
    },
    {
     "data": {
      "text/html": [
       "<div>\n",
       "<table border=\"1\" class=\"dataframe\">\n",
       "  <thead>\n",
       "    <tr style=\"text-align: right;\">\n",
       "      <th></th>\n",
       "      <th>Unnamed: 0</th>\n",
       "      <th>Quantity</th>\n",
       "      <th>UnitPrice</th>\n",
       "      <th>CustomerID</th>\n",
       "    </tr>\n",
       "  </thead>\n",
       "  <tbody>\n",
       "    <tr>\n",
       "      <th>count</th>\n",
       "      <td>541909.000000</td>\n",
       "      <td>541909.000000</td>\n",
       "      <td>541909.000000</td>\n",
       "      <td>406829.000000</td>\n",
       "    </tr>\n",
       "    <tr>\n",
       "      <th>mean</th>\n",
       "      <td>270954.000000</td>\n",
       "      <td>9.552250</td>\n",
       "      <td>4.611114</td>\n",
       "      <td>15287.690570</td>\n",
       "    </tr>\n",
       "    <tr>\n",
       "      <th>std</th>\n",
       "      <td>156435.797851</td>\n",
       "      <td>218.081158</td>\n",
       "      <td>96.759853</td>\n",
       "      <td>1713.600303</td>\n",
       "    </tr>\n",
       "    <tr>\n",
       "      <th>min</th>\n",
       "      <td>0.000000</td>\n",
       "      <td>-80995.000000</td>\n",
       "      <td>-11062.060000</td>\n",
       "      <td>12346.000000</td>\n",
       "    </tr>\n",
       "    <tr>\n",
       "      <th>25%</th>\n",
       "      <td>135477.000000</td>\n",
       "      <td>1.000000</td>\n",
       "      <td>1.250000</td>\n",
       "      <td>NaN</td>\n",
       "    </tr>\n",
       "    <tr>\n",
       "      <th>50%</th>\n",
       "      <td>270954.000000</td>\n",
       "      <td>3.000000</td>\n",
       "      <td>2.080000</td>\n",
       "      <td>NaN</td>\n",
       "    </tr>\n",
       "    <tr>\n",
       "      <th>75%</th>\n",
       "      <td>406431.000000</td>\n",
       "      <td>10.000000</td>\n",
       "      <td>4.130000</td>\n",
       "      <td>NaN</td>\n",
       "    </tr>\n",
       "    <tr>\n",
       "      <th>max</th>\n",
       "      <td>541908.000000</td>\n",
       "      <td>80995.000000</td>\n",
       "      <td>38970.000000</td>\n",
       "      <td>18287.000000</td>\n",
       "    </tr>\n",
       "  </tbody>\n",
       "</table>\n",
       "</div>"
      ],
      "text/plain": [
       "          Unnamed: 0       Quantity      UnitPrice     CustomerID\n",
       "count  541909.000000  541909.000000  541909.000000  406829.000000\n",
       "mean   270954.000000       9.552250       4.611114   15287.690570\n",
       "std    156435.797851     218.081158      96.759853    1713.600303\n",
       "min         0.000000  -80995.000000  -11062.060000   12346.000000\n",
       "25%    135477.000000       1.000000       1.250000            NaN\n",
       "50%    270954.000000       3.000000       2.080000            NaN\n",
       "75%    406431.000000      10.000000       4.130000            NaN\n",
       "max    541908.000000   80995.000000   38970.000000   18287.000000"
      ]
     },
     "execution_count": 8,
     "metadata": {},
     "output_type": "execute_result"
    }
   ],
   "source": [
    "df.describe()"
   ]
  },
  {
   "cell_type": "markdown",
   "metadata": {},
   "source": [
    "Max and Min of <i>Quantity</i> based on the above transaction which the transaction been cancelled(C581484)."
   ]
  },
  {
   "cell_type": "markdown",
   "metadata": {},
   "source": [
    "Below is datatype for each variables."
   ]
  },
  {
   "cell_type": "code",
   "execution_count": 60,
   "metadata": {
    "collapsed": false
   },
   "outputs": [
    {
     "data": {
      "text/plain": [
       "Unnamed: 0       int64\n",
       "InvoiceNo       object\n",
       "StockCode       object\n",
       "Description     object\n",
       "Quantity         int64\n",
       "InvoiceDate     object\n",
       "UnitPrice      float64\n",
       "CustomerID     float64\n",
       "Country         object\n",
       "dtype: object"
      ]
     },
     "execution_count": 60,
     "metadata": {},
     "output_type": "execute_result"
    }
   ],
   "source": [
    "df.dtypes"
   ]
  },
  {
   "cell_type": "markdown",
   "metadata": {},
   "source": [
    "\n"
   ]
  },
  {
   "cell_type": "markdown",
   "metadata": {},
   "source": [
    "# Data Cleaning & Transformation"
   ]
  },
  {
   "cell_type": "markdown",
   "metadata": {},
   "source": [
    "View the the variables using describe function"
   ]
  },
  {
   "cell_type": "code",
   "execution_count": 61,
   "metadata": {
    "collapsed": false
   },
   "outputs": [
    {
     "name": "stdout",
     "output_type": "stream",
     "text": [
      "<class 'pandas.core.frame.DataFrame'>\n",
      "RangeIndex: 541909 entries, 0 to 541908\n",
      "Data columns (total 9 columns):\n",
      "Unnamed: 0     int64\n",
      "InvoiceNo      object\n",
      "StockCode      object\n",
      "Description    object\n",
      "Quantity       int64\n",
      "InvoiceDate    object\n",
      "UnitPrice      float64\n",
      "CustomerID     float64\n",
      "Country        object\n",
      "dtypes: float64(2), int64(2), object(5)\n",
      "memory usage: 26.9+ MB\n"
     ]
    }
   ],
   "source": [
    "df.info()"
   ]
  },
  {
   "cell_type": "markdown",
   "metadata": {},
   "source": [
    "Variable <i>Description</i> and <i>CustomerID</i> have missing values. <i>CustomerID</i> have more than 100000 missing values, and maybe consider it to be removed."
   ]
  },
  {
   "cell_type": "code",
   "execution_count": 62,
   "metadata": {
    "collapsed": false
   },
   "outputs": [
    {
     "name": "stdout",
     "output_type": "stream",
     "text": [
      "['United Kingdom' 'France' 'Australia' 'Netherlands' 'Germany' 'Norway'\n",
      " 'EIRE' 'Switzerland' 'Spain' 'Poland' 'Portugal' 'Italy' 'Belgium'\n",
      " 'Lithuania' 'Japan' 'Iceland' 'Channel Islands' 'Denmark' 'Cyprus'\n",
      " 'Sweden' 'Austria' 'Israel' 'Finland' 'Bahrain' 'Greece' 'Hong Kong'\n",
      " 'Singapore' 'Lebanon' 'United Arab Emirates' 'Saudi Arabia'\n",
      " 'Czech Republic' 'Canada' 'Unspecified' 'Brazil' 'USA'\n",
      " 'European Community' 'Malta' 'RSA']\n"
     ]
    }
   ],
   "source": [
    "print (df['Country'].unique())"
   ]
  },
  {
   "cell_type": "markdown",
   "metadata": {},
   "source": [
    "It's interesting since there are many country involve in this transaction. Of course it is, because this is internation transaction though. Maybe we can view the distribution of customer of each country?"
   ]
  },
  {
   "cell_type": "code",
   "execution_count": 63,
   "metadata": {
    "collapsed": false
   },
   "outputs": [
    {
     "data": {
      "text/plain": [
       "<matplotlib.axes._subplots.AxesSubplot at 0x7869870>"
      ]
     },
     "execution_count": 63,
     "metadata": {},
     "output_type": "execute_result"
    },
    {
     "data": {
      "image/png": "[encoded data removed]",
      "text/plain": [
       "<matplotlib.figure.Figure at 0x78693d0>"
      ]
     },
     "metadata": {},
     "output_type": "display_data"
    }
   ],
   "source": [
    "plt.rc('figure', figsize=(10, 5))\n",
    "fizsize_with_subplots = (30, 20)\n",
    "fig = plt.figure(figsize=fizsize_with_subplots)\n",
    "fig_dims = (3,2)\n",
    "colors = 'rgbymck'\n",
    "\n",
    "# EDUCATION\n",
    "plt.subplot2grid(fig_dims, (0, 0))\n",
    "df['Country'].value_counts().plot(kind='bar',title='Frequency of education', color=colors)"
   ]
  },
  {
   "cell_type": "markdown",
   "metadata": {},
   "source": [
    "Variable <i>Country</i> also need consider to be removed since the number of customers not balance for each country and mostly from UK."
   ]
  },
  {
   "cell_type": "code",
   "execution_count": 64,
   "metadata": {
    "collapsed": false
   },
   "outputs": [],
   "source": [
    "df_uk = df[df['Country'] == 'United Kingdom'].copy()\n",
    "df_uk = df_uk[pd.notnull(df_uk['Description'])]\n",
    "df_uk = df_uk[pd.notnull(df_uk['CustomerID'])]\n",
    "df_uk = df_uk.drop(df_uk.columns[[0]],axis=1)\n",
    "\n",
    "#http://stackoverflow.com/questions/32675861/copy-all-values-in-a-column-to-a-new-column-in-a-pandas-dataframe"
   ]
  },
  {
   "cell_type": "code",
   "execution_count": 65,
   "metadata": {
    "collapsed": false
   },
   "outputs": [
    {
     "data": {
      "text/html": [
       "<div>\n",
       "<table border=\"1\" class=\"dataframe\">\n",
       "  <thead>\n",
       "    <tr style=\"text-align: right;\">\n",
       "      <th></th>\n",
       "      <th>InvoiceNo</th>\n",
       "      <th>StockCode</th>\n",
       "      <th>Description</th>\n",
       "      <th>Quantity</th>\n",
       "      <th>InvoiceDate</th>\n",
       "      <th>UnitPrice</th>\n",
       "      <th>CustomerID</th>\n",
       "      <th>Country</th>\n",
       "    </tr>\n",
       "  </thead>\n",
       "  <tbody>\n",
       "    <tr>\n",
       "      <th>0</th>\n",
       "      <td>536365</td>\n",
       "      <td>85123A</td>\n",
       "      <td>WHITE HANGING HEART T-LIGHT HOLDER</td>\n",
       "      <td>6</td>\n",
       "      <td>2010-12-01 08:26:00</td>\n",
       "      <td>2.55</td>\n",
       "      <td>17850.0</td>\n",
       "      <td>United Kingdom</td>\n",
       "    </tr>\n",
       "    <tr>\n",
       "      <th>1</th>\n",
       "      <td>536365</td>\n",
       "      <td>71053</td>\n",
       "      <td>WHITE METAL LANTERN</td>\n",
       "      <td>6</td>\n",
       "      <td>2010-12-01 08:26:00</td>\n",
       "      <td>3.39</td>\n",
       "      <td>17850.0</td>\n",
       "      <td>United Kingdom</td>\n",
       "    </tr>\n",
       "    <tr>\n",
       "      <th>2</th>\n",
       "      <td>536365</td>\n",
       "      <td>84406B</td>\n",
       "      <td>CREAM CUPID HEARTS COAT HANGER</td>\n",
       "      <td>8</td>\n",
       "      <td>2010-12-01 08:26:00</td>\n",
       "      <td>2.75</td>\n",
       "      <td>17850.0</td>\n",
       "      <td>United Kingdom</td>\n",
       "    </tr>\n",
       "    <tr>\n",
       "      <th>3</th>\n",
       "      <td>536365</td>\n",
       "      <td>84029G</td>\n",
       "      <td>KNITTED UNION FLAG HOT WATER BOTTLE</td>\n",
       "      <td>6</td>\n",
       "      <td>2010-12-01 08:26:00</td>\n",
       "      <td>3.39</td>\n",
       "      <td>17850.0</td>\n",
       "      <td>United Kingdom</td>\n",
       "    </tr>\n",
       "    <tr>\n",
       "      <th>4</th>\n",
       "      <td>536365</td>\n",
       "      <td>84029E</td>\n",
       "      <td>RED WOOLLY HOTTIE WHITE HEART.</td>\n",
       "      <td>6</td>\n",
       "      <td>2010-12-01 08:26:00</td>\n",
       "      <td>3.39</td>\n",
       "      <td>17850.0</td>\n",
       "      <td>United Kingdom</td>\n",
       "    </tr>\n",
       "  </tbody>\n",
       "</table>\n",
       "</div>"
      ],
      "text/plain": [
       "  InvoiceNo StockCode                          Description  Quantity  \\\n",
       "0    536365    85123A   WHITE HANGING HEART T-LIGHT HOLDER         6   \n",
       "1    536365     71053                  WHITE METAL LANTERN         6   \n",
       "2    536365    84406B       CREAM CUPID HEARTS COAT HANGER         8   \n",
       "3    536365    84029G  KNITTED UNION FLAG HOT WATER BOTTLE         6   \n",
       "4    536365    84029E       RED WOOLLY HOTTIE WHITE HEART.         6   \n",
       "\n",
       "           InvoiceDate  UnitPrice  CustomerID         Country  \n",
       "0  2010-12-01 08:26:00       2.55     17850.0  United Kingdom  \n",
       "1  2010-12-01 08:26:00       3.39     17850.0  United Kingdom  \n",
       "2  2010-12-01 08:26:00       2.75     17850.0  United Kingdom  \n",
       "3  2010-12-01 08:26:00       3.39     17850.0  United Kingdom  \n",
       "4  2010-12-01 08:26:00       3.39     17850.0  United Kingdom  "
      ]
     },
     "execution_count": 65,
     "metadata": {},
     "output_type": "execute_result"
    }
   ],
   "source": [
    "df_uk.head()"
   ]
  },
  {
   "cell_type": "markdown",
   "metadata": {},
   "source": [
    "\n"
   ]
  },
  {
   "cell_type": "markdown",
   "metadata": {},
   "source": [
    "<b>Create new variables <i>Time, Date and TotalPrice</i></b>"
   ]
  },
  {
   "cell_type": "code",
   "execution_count": 66,
   "metadata": {
    "collapsed": false
   },
   "outputs": [],
   "source": [
    "df_uk['Time'] = df_uk.InvoiceDate.str[11:]\n",
    "df_uk['Date'] = df_uk.InvoiceDate.str[:10]\n",
    "df_uk['TotalPrice'] = df_uk['Quantity'] * df_uk['UnitPrice']\n",
    "\n",
    "# http://stackoverflow.com/questions/30780742/get-substring-from-pandas-dataframe-while-filtering"
   ]
  },
  {
   "cell_type": "code",
   "execution_count": 67,
   "metadata": {
    "collapsed": false
   },
   "outputs": [
    {
     "data": {
      "text/html": [
       "<div>\n",
       "<table border=\"1\" class=\"dataframe\">\n",
       "  <thead>\n",
       "    <tr style=\"text-align: right;\">\n",
       "      <th></th>\n",
       "      <th>InvoiceNo</th>\n",
       "      <th>StockCode</th>\n",
       "      <th>Description</th>\n",
       "      <th>Quantity</th>\n",
       "      <th>InvoiceDate</th>\n",
       "      <th>UnitPrice</th>\n",
       "      <th>CustomerID</th>\n",
       "      <th>Country</th>\n",
       "      <th>Time</th>\n",
       "      <th>Date</th>\n",
       "      <th>TotalPrice</th>\n",
       "    </tr>\n",
       "  </thead>\n",
       "  <tbody>\n",
       "    <tr>\n",
       "      <th>0</th>\n",
       "      <td>536365</td>\n",
       "      <td>85123A</td>\n",
       "      <td>WHITE HANGING HEART T-LIGHT HOLDER</td>\n",
       "      <td>6</td>\n",
       "      <td>2010-12-01 08:26:00</td>\n",
       "      <td>2.55</td>\n",
       "      <td>17850.0</td>\n",
       "      <td>United Kingdom</td>\n",
       "      <td>08:26:00</td>\n",
       "      <td>2010-12-01</td>\n",
       "      <td>15.30</td>\n",
       "    </tr>\n",
       "    <tr>\n",
       "      <th>1</th>\n",
       "      <td>536365</td>\n",
       "      <td>71053</td>\n",
       "      <td>WHITE METAL LANTERN</td>\n",
       "      <td>6</td>\n",
       "      <td>2010-12-01 08:26:00</td>\n",
       "      <td>3.39</td>\n",
       "      <td>17850.0</td>\n",
       "      <td>United Kingdom</td>\n",
       "      <td>08:26:00</td>\n",
       "      <td>2010-12-01</td>\n",
       "      <td>20.34</td>\n",
       "    </tr>\n",
       "    <tr>\n",
       "      <th>2</th>\n",
       "      <td>536365</td>\n",
       "      <td>84406B</td>\n",
       "      <td>CREAM CUPID HEARTS COAT HANGER</td>\n",
       "      <td>8</td>\n",
       "      <td>2010-12-01 08:26:00</td>\n",
       "      <td>2.75</td>\n",
       "      <td>17850.0</td>\n",
       "      <td>United Kingdom</td>\n",
       "      <td>08:26:00</td>\n",
       "      <td>2010-12-01</td>\n",
       "      <td>22.00</td>\n",
       "    </tr>\n",
       "    <tr>\n",
       "      <th>3</th>\n",
       "      <td>536365</td>\n",
       "      <td>84029G</td>\n",
       "      <td>KNITTED UNION FLAG HOT WATER BOTTLE</td>\n",
       "      <td>6</td>\n",
       "      <td>2010-12-01 08:26:00</td>\n",
       "      <td>3.39</td>\n",
       "      <td>17850.0</td>\n",
       "      <td>United Kingdom</td>\n",
       "      <td>08:26:00</td>\n",
       "      <td>2010-12-01</td>\n",
       "      <td>20.34</td>\n",
       "    </tr>\n",
       "    <tr>\n",
       "      <th>4</th>\n",
       "      <td>536365</td>\n",
       "      <td>84029E</td>\n",
       "      <td>RED WOOLLY HOTTIE WHITE HEART.</td>\n",
       "      <td>6</td>\n",
       "      <td>2010-12-01 08:26:00</td>\n",
       "      <td>3.39</td>\n",
       "      <td>17850.0</td>\n",
       "      <td>United Kingdom</td>\n",
       "      <td>08:26:00</td>\n",
       "      <td>2010-12-01</td>\n",
       "      <td>20.34</td>\n",
       "    </tr>\n",
       "  </tbody>\n",
       "</table>\n",
       "</div>"
      ],
      "text/plain": [
       "  InvoiceNo StockCode                          Description  Quantity  \\\n",
       "0    536365    85123A   WHITE HANGING HEART T-LIGHT HOLDER         6   \n",
       "1    536365     71053                  WHITE METAL LANTERN         6   \n",
       "2    536365    84406B       CREAM CUPID HEARTS COAT HANGER         8   \n",
       "3    536365    84029G  KNITTED UNION FLAG HOT WATER BOTTLE         6   \n",
       "4    536365    84029E       RED WOOLLY HOTTIE WHITE HEART.         6   \n",
       "\n",
       "           InvoiceDate  UnitPrice  CustomerID         Country      Time  \\\n",
       "0  2010-12-01 08:26:00       2.55     17850.0  United Kingdom  08:26:00   \n",
       "1  2010-12-01 08:26:00       3.39     17850.0  United Kingdom  08:26:00   \n",
       "2  2010-12-01 08:26:00       2.75     17850.0  United Kingdom  08:26:00   \n",
       "3  2010-12-01 08:26:00       3.39     17850.0  United Kingdom  08:26:00   \n",
       "4  2010-12-01 08:26:00       3.39     17850.0  United Kingdom  08:26:00   \n",
       "\n",
       "         Date  TotalPrice  \n",
       "0  2010-12-01       15.30  \n",
       "1  2010-12-01       20.34  \n",
       "2  2010-12-01       22.00  \n",
       "3  2010-12-01       20.34  \n",
       "4  2010-12-01       20.34  "
      ]
     },
     "execution_count": 67,
     "metadata": {},
     "output_type": "execute_result"
    }
   ],
   "source": [
    "df_uk.head()"
   ]
  },
  {
   "cell_type": "markdown",
   "metadata": {},
   "source": [
    "\n"
   ]
  },
  {
   "cell_type": "markdown",
   "metadata": {},
   "source": [
    "<b>Remove <i>InvoiceDate</i>, <i>UnitPrice</i> and <i>StockCode</i> variable</b>\n"
   ]
  },
  {
   "cell_type": "code",
   "execution_count": 68,
   "metadata": {
    "collapsed": false
   },
   "outputs": [],
   "source": [
    "df_uk = df_uk.drop(['InvoiceDate','StockCode','UnitPrice'],axis=1)\n",
    "\n",
    "# http://chrisalbon.com/python/pandas_dropping_column_and_rows.html"
   ]
  },
  {
   "cell_type": "code",
   "execution_count": 69,
   "metadata": {
    "collapsed": false
   },
   "outputs": [
    {
     "data": {
      "text/html": [
       "<div>\n",
       "<table border=\"1\" class=\"dataframe\">\n",
       "  <thead>\n",
       "    <tr style=\"text-align: right;\">\n",
       "      <th></th>\n",
       "      <th>InvoiceNo</th>\n",
       "      <th>Description</th>\n",
       "      <th>Quantity</th>\n",
       "      <th>CustomerID</th>\n",
       "      <th>Country</th>\n",
       "      <th>Time</th>\n",
       "      <th>Date</th>\n",
       "      <th>TotalPrice</th>\n",
       "    </tr>\n",
       "  </thead>\n",
       "  <tbody>\n",
       "    <tr>\n",
       "      <th>0</th>\n",
       "      <td>536365</td>\n",
       "      <td>WHITE HANGING HEART T-LIGHT HOLDER</td>\n",
       "      <td>6</td>\n",
       "      <td>17850.0</td>\n",
       "      <td>United Kingdom</td>\n",
       "      <td>08:26:00</td>\n",
       "      <td>2010-12-01</td>\n",
       "      <td>15.30</td>\n",
       "    </tr>\n",
       "    <tr>\n",
       "      <th>1</th>\n",
       "      <td>536365</td>\n",
       "      <td>WHITE METAL LANTERN</td>\n",
       "      <td>6</td>\n",
       "      <td>17850.0</td>\n",
       "      <td>United Kingdom</td>\n",
       "      <td>08:26:00</td>\n",
       "      <td>2010-12-01</td>\n",
       "      <td>20.34</td>\n",
       "    </tr>\n",
       "    <tr>\n",
       "      <th>2</th>\n",
       "      <td>536365</td>\n",
       "      <td>CREAM CUPID HEARTS COAT HANGER</td>\n",
       "      <td>8</td>\n",
       "      <td>17850.0</td>\n",
       "      <td>United Kingdom</td>\n",
       "      <td>08:26:00</td>\n",
       "      <td>2010-12-01</td>\n",
       "      <td>22.00</td>\n",
       "    </tr>\n",
       "    <tr>\n",
       "      <th>3</th>\n",
       "      <td>536365</td>\n",
       "      <td>KNITTED UNION FLAG HOT WATER BOTTLE</td>\n",
       "      <td>6</td>\n",
       "      <td>17850.0</td>\n",
       "      <td>United Kingdom</td>\n",
       "      <td>08:26:00</td>\n",
       "      <td>2010-12-01</td>\n",
       "      <td>20.34</td>\n",
       "    </tr>\n",
       "    <tr>\n",
       "      <th>4</th>\n",
       "      <td>536365</td>\n",
       "      <td>RED WOOLLY HOTTIE WHITE HEART.</td>\n",
       "      <td>6</td>\n",
       "      <td>17850.0</td>\n",
       "      <td>United Kingdom</td>\n",
       "      <td>08:26:00</td>\n",
       "      <td>2010-12-01</td>\n",
       "      <td>20.34</td>\n",
       "    </tr>\n",
       "  </tbody>\n",
       "</table>\n",
       "</div>"
      ],
      "text/plain": [
       "  InvoiceNo                          Description  Quantity  CustomerID  \\\n",
       "0    536365   WHITE HANGING HEART T-LIGHT HOLDER         6     17850.0   \n",
       "1    536365                  WHITE METAL LANTERN         6     17850.0   \n",
       "2    536365       CREAM CUPID HEARTS COAT HANGER         8     17850.0   \n",
       "3    536365  KNITTED UNION FLAG HOT WATER BOTTLE         6     17850.0   \n",
       "4    536365       RED WOOLLY HOTTIE WHITE HEART.         6     17850.0   \n",
       "\n",
       "          Country      Time        Date  TotalPrice  \n",
       "0  United Kingdom  08:26:00  2010-12-01       15.30  \n",
       "1  United Kingdom  08:26:00  2010-12-01       20.34  \n",
       "2  United Kingdom  08:26:00  2010-12-01       22.00  \n",
       "3  United Kingdom  08:26:00  2010-12-01       20.34  \n",
       "4  United Kingdom  08:26:00  2010-12-01       20.34  "
      ]
     },
     "execution_count": 69,
     "metadata": {},
     "output_type": "execute_result"
    }
   ],
   "source": [
    "df_uk.head()"
   ]
  },
  {
   "cell_type": "markdown",
   "metadata": {},
   "source": [
    "\n"
   ]
  },
  {
   "cell_type": "markdown",
   "metadata": {},
   "source": [
    "\n"
   ]
  },
  {
   "cell_type": "markdown",
   "metadata": {},
   "source": [
    "# Data Visualization"
   ]
  },
  {
   "cell_type": "markdown",
   "metadata": {},
   "source": [
    "<b>Top 10 Product's Quantity Bought</b>"
   ]
  },
  {
   "cell_type": "code",
   "execution_count": 70,
   "metadata": {
    "collapsed": false
   },
   "outputs": [
    {
     "data": {
      "text/plain": [
       "Description\n",
       "WORLD WAR 2 GLIDERS ASSTD DESIGNS     47982\n",
       "JUMBO BAG RED RETROSPOT               40880\n",
       "ASSORTED COLOUR BIRD ORNAMENT         32679\n",
       "WHITE HANGING HEART T-LIGHT HOLDER    32097\n",
       "POPCORN HOLDER                        28562\n",
       "PACK OF 12 LONDON TISSUES             24313\n",
       "BROCADE RING PURSE                    22708\n",
       "PACK OF 72 RETROSPOT CAKE CASES       22205\n",
       "VICTORIAN GLASS HANGING T-LIGHT       21456\n",
       "PACK OF 60 PINK PAISLEY CAKE CASES    19916\n",
       "Name: Quantity, dtype: int64"
      ]
     },
     "execution_count": 70,
     "metadata": {},
     "output_type": "execute_result"
    },
    {
     "data": {
      "image/png": "[encoded data removed]",
      "text/plain": [
       "<matplotlib.figure.Figure at 0x7af84f0>"
      ]
     },
     "metadata": {},
     "output_type": "display_data"
    }
   ],
   "source": [
    "graph_prod = df_uk.groupby(['Description']).sum()\n",
    "graph_prod = graph_prod.sort_values('Quantity',ascending=False).head(10)\n",
    "graph_prod['Quantity'].plot(kind='bar',color=colors)\n",
    "graph_prod['Quantity']\n",
    "\n",
    "# http://queirozf.com/entries/pandas-dataframe-by-example\n",
    "# http://chrisalbon.com/python/pandas_sorting_rows_dataframe.html\n",
    "#http://stackoverflow.com/questions/29219055/plot-top-10-verse-all-other-values"
   ]
  },
  {
   "cell_type": "markdown",
   "metadata": {
    "collapsed": true
   },
   "source": [
    "Above is the graph of 10 products bought by the customer from UK. Product that the most bought is <i>WORLD WAR 2 GLIDERS ASSTD DESIGNS</i> with 47982 units."
   ]
  },
  {
   "cell_type": "markdown",
   "metadata": {},
   "source": [
    "\n"
   ]
  },
  {
   "cell_type": "markdown",
   "metadata": {},
   "source": [
    "<b>Top 10 Product's Total Price</b>"
   ]
  },
  {
   "cell_type": "markdown",
   "metadata": {},
   "source": [
    "\n"
   ]
  },
  {
   "cell_type": "code",
   "execution_count": 71,
   "metadata": {
    "collapsed": false
   },
   "outputs": [
    {
     "data": {
      "text/plain": [
       "Description\n",
       "REGENCY CAKESTAND 3 TIER              103122.85\n",
       "WHITE HANGING HEART T-LIGHT HOLDER     88313.95\n",
       "JUMBO BAG RED RETROSPOT                75416.67\n",
       "PARTY BUNTING                          61952.58\n",
       "ASSORTED COLOUR BIRD ORNAMENT          52314.87\n",
       "CHILLI LIGHTS                          45155.61\n",
       "PICNIC BASKET WICKER 60 PIECES         39619.50\n",
       "PAPER CHAIN KIT 50'S CHRISTMAS         39596.73\n",
       "BLACK RECORD COVER FRAME               37799.42\n",
       "WOOD BLACK BOARD ANT WHITE FINISH      33408.76\n",
       "Name: TotalPrice, dtype: float64"
      ]
     },
     "execution_count": 71,
     "metadata": {},
     "output_type": "execute_result"
    },
    {
     "data": {
      "image/png": "[encoded data removed]",
      "text/plain": [
       "<matplotlib.figure.Figure at 0x7af88d0>"
      ]
     },
     "metadata": {},
     "output_type": "display_data"
    }
   ],
   "source": [
    "graph_prod = df_uk.groupby(['Description']).sum()\n",
    "graph_prod = graph_prod.sort_values('TotalPrice',ascending=False).head(10)\n",
    "graph_prod['TotalPrice'].plot(kind='bar',color=colors)\n",
    "graph_prod['TotalPrice']\n",
    "\n",
    "# http://queirozf.com/entries/pandas-dataframe-by-example\n",
    "# http://chrisalbon.com/python/pandas_sorting_rows_dataframe.html\n",
    "#http://stackoverflow.com/questions/29219055/plot-top-10-verse-all-other-values"
   ]
  },
  {
   "cell_type": "markdown",
   "metadata": {},
   "source": [
    "Regency cakestand 3 tier has the highest total price among other product."
   ]
  },
  {
   "cell_type": "markdown",
   "metadata": {
    "collapsed": true
   },
   "source": [
    "\n",
    "\n"
   ]
  },
  {
   "cell_type": "markdown",
   "metadata": {},
   "source": [
    "\n"
   ]
  },
  {
   "cell_type": "markdown",
   "metadata": {},
   "source": [
    "<b>Top 10 customers based on total price spent</b>"
   ]
  },
  {
   "cell_type": "code",
   "execution_count": 72,
   "metadata": {
    "collapsed": false
   },
   "outputs": [
    {
     "data": {
      "text/plain": [
       "CustomerID\n",
       "18102.0    256438.49\n",
       "17450.0    187482.17\n",
       "17511.0     88125.38\n",
       "16684.0     65892.08\n",
       "13694.0     62653.10\n",
       "15311.0     59419.34\n",
       "13089.0     57385.88\n",
       "14096.0     57120.91\n",
       "15061.0     54228.74\n",
       "17949.0     52750.84\n",
       "Name: TotalPrice, dtype: float64"
      ]
     },
     "execution_count": 72,
     "metadata": {},
     "output_type": "execute_result"
    },
    {
     "data": {
      "image/png": "[encoded data removed]",
      "text/plain": [
       "<matplotlib.figure.Figure at 0x134210b0>"
      ]
     },
     "metadata": {},
     "output_type": "display_data"
    }
   ],
   "source": [
    "graph_cust = df_uk.groupby(['CustomerID']).sum()\n",
    "graph_cust = graph_cust.sort_values('TotalPrice', ascending=False).head(10)\n",
    "graph_cust['TotalPrice'].plot(kind='bar',color=colors)\n",
    "graph_cust['TotalPrice']"
   ]
  },
  {
   "cell_type": "markdown",
   "metadata": {},
   "source": [
    "CustomerID 18102 has spent $256438.49 bought online product which the highest among them. Maybe we should consider in giving any reward to appreciate their money?\n"
   ]
  },
  {
   "cell_type": "markdown",
   "metadata": {},
   "source": [
    "\n"
   ]
  },
  {
   "cell_type": "code",
   "execution_count": 73,
   "metadata": {
    "collapsed": false,
    "scrolled": true
   },
   "outputs": [
    {
     "data": {
      "text/plain": [
       "<matplotlib.axes._subplots.AxesSubplot at 0x763e5d0>"
      ]
     },
     "execution_count": 73,
     "metadata": {},
     "output_type": "execute_result"
    },
    {
     "data": {
      "image/png": "[encoded data removed]",
      "text/plain": [
       "<matplotlib.figure.Figure at 0x9c3ff70>"
      ]
     },
     "metadata": {},
     "output_type": "display_data"
    }
   ],
   "source": [
    "df_uk['Date'] = pd.to_datetime(df_uk['Date'])\n",
    "df_uk['year'] = df_uk['Date'].dt.year\n",
    "df_uk['month'] = df_uk['Date'].dt.month\n",
    "time_series_bought = df_uk.groupby(['year','month']).sum()\n",
    "\n",
    "ax = time_series_bought['TotalPrice'].plot(kind='line', linestyle='--', marker='o')\n",
    "time_series_bought['TotalPrice'].plot(kind='bar',ax=ax, color=colors)\n",
    "\n",
    "#http://stackoverflow.com/questions/23482201/plot-pandas-dataframe-as-bar-and-line-on-the-same-one-chart"
   ]
  },
  {
   "cell_type": "code",
   "execution_count": 74,
   "metadata": {
    "collapsed": false
   },
   "outputs": [
    {
     "name": "stdout",
     "output_type": "stream",
     "text": [
      "year  month\n",
      "2010  12       483799.740\n",
      "2011  1        351981.280\n",
      "      2        348853.630\n",
      "      3        456917.870\n",
      "      4        376744.411\n",
      "      5        525573.350\n",
      "      6        472509.250\n",
      "      7        461147.601\n",
      "      8        477008.410\n",
      "      9        776529.842\n",
      "      10       782777.880\n",
      "      11       956109.660\n",
      "      12       297920.470\n",
      "Name: TotalPrice, dtype: float64\n"
     ]
    }
   ],
   "source": [
    "print(time_series_bought['TotalPrice'])"
   ]
  },
  {
   "cell_type": "markdown",
   "metadata": {},
   "source": [
    "It interesting to see that November 2011 have the highest sales. Sales more than 500000 is in May, September, October and November 2011. But in December 2011 the sales sudden fall maybe because it is not a full month transaction (transaction until 9 Dec 2011). We need to dig further what are top 3 products that the customer bought for each month."
   ]
  },
  {
   "cell_type": "code",
   "execution_count": 79,
   "metadata": {
    "collapsed": false
   },
   "outputs": [
    {
     "name": "stdout",
     "output_type": "stream",
     "text": [
      "year  month  Description                       \n",
      "2011  1      WHITE HANGING HEART T-LIGHT HOLDER    14189.50\n",
      "             FAIRY CAKE FLANNEL ASSORTED COLOUR     6794.55\n",
      "             REGENCY CAKESTAND 3 TIER               5489.70\n",
      "Name: TotalPrice, dtype: float64\n",
      "year  month  Description                 \n",
      "2011  2      VINTAGE UNION JACK MEMOBOARD    6810.39\n",
      "             REGENCY CAKESTAND 3 TIER        6620.40\n",
      "             JUMBO BAG RED RETROSPOT         4736.55\n",
      "Name: TotalPrice, dtype: float64\n",
      "year  month  Description             \n",
      "2011  3      REGENCY CAKESTAND 3 TIER    11331.65\n",
      "             JUMBO BAG RED RETROSPOT      8113.48\n",
      "             PARTY BUNTING                5886.60\n",
      "Name: TotalPrice, dtype: float64\n",
      "year  month  Description             \n",
      "2011  4      REGENCY CAKESTAND 3 TIER    11319.60\n",
      "             PARTY BUNTING                6714.95\n",
      "             PAPER CHAIN KIT EMPIRE       6411.70\n",
      "Name: TotalPrice, dtype: float64\n",
      "year  month  Description                       \n",
      "2011  5      PARTY BUNTING                         12553.10\n",
      "             WHITE HANGING HEART T-LIGHT HOLDER    10532.27\n",
      "             REGENCY CAKESTAND 3 TIER               8959.00\n",
      "Name: TotalPrice, dtype: float64\n",
      "year  month  Description                   \n",
      "2011  6      PICNIC BASKET WICKER 60 PIECES    39619.50\n",
      "             PARTY BUNTING                      7460.10\n",
      "             REGENCY CAKESTAND 3 TIER           6332.95\n",
      "Name: TotalPrice, dtype: float64\n",
      "year  month  Description                       \n",
      "2011  7      REGENCY CAKESTAND 3 TIER              9682.50\n",
      "             PARTY BUNTING                         9547.45\n",
      "             WHITE HANGING HEART T-LIGHT HOLDER    8054.22\n",
      "Name: TotalPrice, dtype: float64\n",
      "year  month  Description                  \n",
      "2011  8      ASSORTED COLOUR BIRD ORNAMENT    9569.60\n",
      "             JUMBO BAG RED RETROSPOT          8267.33\n",
      "             PARTY BUNTING                    5351.90\n",
      "Name: TotalPrice, dtype: float64\n",
      "year  month  Description                        \n",
      "2011  9      SET OF TEA COFFEE SUGAR TINS PANTRY    9396.22\n",
      "             JUMBO BAG RED RETROSPOT                7093.09\n",
      "             WHITE HANGING HEART T-LIGHT HOLDER     6465.50\n",
      "Name: TotalPrice, dtype: float64\n",
      "year  month  Description                    \n",
      "2011  10     DOORMAT KEEP CALM AND COME IN      9262.22\n",
      "             PAPER CHAIN KIT 50'S CHRISTMAS     7963.49\n",
      "             JUMBO BAG RED RETROSPOT            7707.16\n",
      "Name: TotalPrice, dtype: float64\n",
      "year  month  Description                       \n",
      "2011  11     PAPER CHAIN KIT 50'S CHRISTMAS        15289.76\n",
      "             WHITE HANGING HEART T-LIGHT HOLDER    12112.48\n",
      "             RABBIT NIGHT LIGHT                    11867.54\n",
      "Name: TotalPrice, dtype: float64\n",
      "year  month  Description                       \n",
      "2010  12     REGENCY CAKESTAND 3 TIER              15248.85\n",
      "             WHITE HANGING HEART T-LIGHT HOLDER     7991.00\n",
      "             VINTAGE UNION JACK MEMOBOARD           6938.49\n",
      "Name: TotalPrice, dtype: float64\n"
     ]
    },
    {
     "data": {
      "image/png": "[encoded data removed]",
      "text/plain": [
       "<matplotlib.figure.Figure at 0x14b58630>"
      ]
     },
     "metadata": {},
     "output_type": "display_data"
    }
   ],
   "source": [
    "year = 2011\n",
    "for month in range(1,13):\n",
    "    df_uk_temp = df_uk.loc[df_uk['year'] == year]\n",
    "    df_uk_temp = df_uk.loc[df_uk['month'] == month]\n",
    "    prod_freq_per_month = df_uk_temp.groupby(['year','month','Description']).sum()\n",
    "    prod_freq_per_month = prod_freq_per_month.sort_values('TotalPrice', ascending=False).head(3)\n",
    "    prod_freq_per_month['TotalPrice'].plot()\n",
    "    print(prod_freq_per_month['TotalPrice'])\n",
    "    "
   ]
  },
  {
   "cell_type": "markdown",
   "metadata": {
    "collapsed": true
   },
   "source": [
    "From the graph, it shows that the average amount of the higest total price for each month is around 10000 to 15000. PICNIC BASKET WICKER 60 PIECES lead the total price they spent per month with 39619.50, which double to the value of 2nd highest total price, PAPER CHAIN KIT 50'S CHRISTMAS with 15289.76. From this graph also maybe we can count the number of product that appear the most in the top 3, which product? REGENCY CAKESTAND 3 TIER! 8 times this product in the top 3. Maybe the company should focus the advertisement on this product to increase their profit?"
   ]
  },
  {
   "cell_type": "markdown",
   "metadata": {
    "collapsed": true
   },
   "source": [
    "\n"
   ]
  },
  {
   "cell_type": "markdown",
   "metadata": {},
   "source": [
    "# Prediction Modelling"
   ]
  },
  {
   "cell_type": "markdown",
   "metadata": {},
   "source": [
    "No idea hat to predict.\n"
   ]
  },
  {
   "cell_type": "markdown",
   "metadata": {},
   "source": [
    "\n"
   ]
  },
  {
   "cell_type": "markdown",
   "metadata": {},
   "source": [
    "# Conclusion"
   ]
  },
  {
   "cell_type": "markdown",
   "metadata": {
    "collapsed": true
   },
   "source": [
    "There are several products that need to give attention like REGENCY CAKESTAND 3 TIER where it has the highest of total amount bought by the customer. While WORLD WAR 2 GLIDERS ASSTD DESIGNS has the highest of total quantity bought by the customer. In November 2011, shows the highest total sales near to 1 million and May, September and October are the months that have total sales more than 500k. "
   ]
  }
 ],
 "metadata": {
  "anaconda-cloud": {},
  "kernelspec": {
   "display_name": "Python 3",
   "language": "python",
   "name": "python3"
  },
  "language_info": {
   "codemirror_mode": {
    "name": "ipython",
    "version": 3
   },
   "file_extension": ".py",
   "mimetype": "text/x-python",
   "name": "python",
   "nbconvert_exporter": "python",
   "pygments_lexer": "ipython3",
   "version": "3.5.2"
  }
 },
 "nbformat": 4,
 "nbformat_minor": 0
}
