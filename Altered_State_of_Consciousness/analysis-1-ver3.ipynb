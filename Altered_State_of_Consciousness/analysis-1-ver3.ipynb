{
 "cells": [
  {
   "cell_type": "markdown",
   "metadata": {},
   "source": [
    "# <u>Altered State of Consciousness</u>"
   ]
  },
  {
   "cell_type": "markdown",
   "metadata": {},
   "source": [
    "<h2><b>Introduction</b></h2>"
   ]
  },
  {
   "cell_type": "markdown",
   "metadata": {},
   "source": [
    "For now I try to do some analysis to this dataset. This dataset has 33 variables including target variables. The target variables is status of the patient whether dead or alive.  "
   ]
  },
  {
   "cell_type": "markdown",
   "metadata": {},
   "source": [
    "<h2><b>Attribute Explanation</b></h2>"
   ]
  },
  {
   "cell_type": "markdown",
   "metadata": {},
   "source": [
    "<table>\n",
    "    <tr>\n",
    "        <th>\n",
    "            Name\n",
    "        </th>\n",
    "        <th>\n",
    "            Description\n",
    "        </th>\n",
    "        <th>\n",
    "            Value\n",
    "        </th>\n",
    "    </tr>\n",
    "<tr><td>Age</td><td>Age</td><td>Integer\n",
    "<br/></td></tr><tr><td>Sex</td><td>Gender</td><td>1-male<br/>2-female\n",
    "<br/></td></tr><tr><td>Race</td><td>Race</td><td>1-malay<br/>2-chinese<br/>3-others\n",
    "<br/></td></tr><tr><td>Smoke</td><td>Smoking</td><td>1-yes<br/>2-no\n",
    "<br/></td></tr><tr><td>Alcohol</td><td>Drink Alcohol</td><td>1-yes<br/>2-no\n",
    "<br/></td></tr><tr><td>Hpt</td><td>Hypertension</td><td>1-yes<br/>2-no\n",
    "<br/></td></tr><tr><td>Dm</td><td>Diebetes Mellitus</td><td>1-yes<br/>2-no\n",
    "<br/></td></tr><tr><td>Ihd</td><td>Ischemic Heart Disease</td><td>1-yes<br/>2-no\n",
    "<br/></td></tr><tr><td>Ccf</td><td>Heart failure</td><td>1-yes<br/>2-no\n",
    "<br/></td></tr><tr><td>Af</td><td>Atrial Fabrillation</td><td>1-yes<br/>2-no\n",
    "<br/></td></tr><tr><td>Crhd</td><td>Chronic Heart Disease</td><td>1-yes<br/>2-no\n",
    "<br/></td></tr><tr><td>Cva</td><td>Cerebrovascular accident</td><td>1-yes<br/>2-no\n",
    "<br/></td></tr><tr><td>Asthma</td><td>Asthma</td><td>1-yes<br/>2-no\n",
    "<br/></td></tr><tr><td>Renal</td><td>Renal/Kidney Disease</td><td>1-yes<br/>2-no\n",
    "<br/></td></tr><tr><td>Epilepsy</td><td>Epilepsy</td><td>1-yes<br/>2-no\n",
    "<br/></td></tr><tr><td>Dur</td><td>Duration of Symptom</td><td>1-yes<br/>Integer\n",
    "<br/></td></tr><tr><td>Hr</td><td>Heart rate</td><td>More than 60 and less than 100-normal<br/>other than -abnormal\n",
    "<br/></td></tr><tr><td>Sbp</td><td>Systolic Blood Pressure</td><td>>=90&&<=140 - normal<br/> rldr abnormal\n",
    "<br/></td></tr><tr><td>Dbp</td><td>Diastolic Blood Pressure</td><td>>=60&<=90-normal<br/> else abnormal\n",
    "<br/></td></tr><tr><td>Temp</td><td>Temperature</td><td>>=36&<=37 - normal<br/> else abnormal\n",
    "<br/></td></tr><tr><td>GCS</td><td>Glasgow Coma Scale</td><td>Integer\n",
    "<br/></td></tr><tr><td>Ns</td><td>Neck Stiffness</td><td>1-yes<br/>2-no\n",
    "<br/></td></tr><tr><td>papilloe</td><td>Papilloedema</td><td>1-yes<br/>2-no\n",
    "<br/></td></tr><tr><td>puprefl</td><td>Pupillary Reflex</td><td>1-bilateral reactive<br/>2-unilateral unreactive<br/>3-bilateral unreactive\n",
    "<br/></td></tr><tr><td>dollsign</td><td>Doll's Sign</td><td>1-yes<br/>2-no\n",
    "<br/></td></tr><tr><td>Reflexes</td><td>Reflexes</td><td>1-normal<br/>2-unilateral Hyperreflexia<br/>3-Bilateral Hyperreflexia<br/>4-Unilateral Hyporeflexia<br/> 5-Bilateral Hyporeflexia\n",
    "<br/></td></tr><tr><td>Babinski</td><td>Babinski</td><td>1-normal<br/>2- unilateral upgoing<br/>3 - Bilateral upgoing<br/>4-Equivocal unilateral<br/>5-Equivocal bilateral\n",
    "<br/></td></tr><tr><td>Wbc</td><td>White Blood Count</td><td>Integer\n",
    "<br/></td></tr><tr><td>Rbs</td><td>Red Blood Sugar</td><td>Integer\n",
    "<br/></td></tr><tr><td>Abg</td><td>Arterial Blood Gas</td><td>1-metabolic acidosis<br/>2-respiratory acidosis<br/>3-metabolic alkalosis<br/>4-respiratory alkolosis<br/>5- mixed picture<br/> 6-normal\n",
    "<br/></td></tr><tr><td>Intubtn</td><td>Intubation</td><td>1-yes<br/>2-no\n",
    "<br/></td></tr><tr><td>Hosty</td><td>hospital Stay</td><td>Integer\n",
    "<br/></td></tr><tr><td>Status</td><td>Life status</td><td>1-awake<br/>2-comatose<br/>3-dead<br/></td></tr>\n",
    "</table>"
   ]
  },
  {
   "cell_type": "markdown",
   "metadata": {},
   "source": [
    "<b><h2>Import Data</h2></b>"
   ]
  },
  {
   "cell_type": "code",
   "execution_count": 1,
   "metadata": {
    "collapsed": false
   },
   "outputs": [],
   "source": [
    "%matplotlib inline\n",
    "import pandas as pd\n",
    "import matplotlib as mpl\n",
    "import matplotlib.pyplot as plt\n",
    "\n",
    "data_xls = pd.read_excel('raw-data.xlsx',0,index_col=None)\n",
    "data_xls.to_csv('raw-data.csv',encoding = 'utf-8')"
   ]
  },
  {
   "cell_type": "code",
   "execution_count": 2,
   "metadata": {
    "collapsed": false
   },
   "outputs": [],
   "source": [
    "df = pd.read_csv('raw-data.csv', header=0)"
   ]
  },
  {
   "cell_type": "markdown",
   "metadata": {},
   "source": [
    "<h2><b>Understanding Data</b></h2>"
   ]
  },
  {
   "cell_type": "code",
   "execution_count": 3,
   "metadata": {
    "collapsed": false
   },
   "outputs": [
    {
     "data": {
      "text/plain": [
       "(219, 34)"
      ]
     },
     "execution_count": 3,
     "metadata": {},
     "output_type": "execute_result"
    }
   ],
   "source": [
    "df.shape"
   ]
  },
  {
   "cell_type": "markdown",
   "metadata": {},
   "source": [
    "From .shape function, know that it has 219 occurences and also have more than 30 variables. "
   ]
  },
  {
   "cell_type": "code",
   "execution_count": 4,
   "metadata": {
    "collapsed": false
   },
   "outputs": [
    {
     "data": {
      "text/html": [
       "<div>\n",
       "<table border=\"1\" class=\"dataframe\">\n",
       "  <thead>\n",
       "    <tr style=\"text-align: right;\">\n",
       "      <th></th>\n",
       "      <th>Unnamed: 0</th>\n",
       "      <th>age</th>\n",
       "      <th>sex</th>\n",
       "      <th>race</th>\n",
       "      <th>smoking</th>\n",
       "      <th>alcohol</th>\n",
       "      <th>hpt</th>\n",
       "      <th>dm</th>\n",
       "      <th>ihd</th>\n",
       "      <th>ccf</th>\n",
       "      <th>...</th>\n",
       "      <th>puprefl</th>\n",
       "      <th>dollsign</th>\n",
       "      <th>reflexes</th>\n",
       "      <th>babinski</th>\n",
       "      <th>wbc</th>\n",
       "      <th>rbs</th>\n",
       "      <th>abg</th>\n",
       "      <th>intubtn</th>\n",
       "      <th>status</th>\n",
       "      <th>hosty</th>\n",
       "    </tr>\n",
       "  </thead>\n",
       "  <tbody>\n",
       "    <tr>\n",
       "      <th>0</th>\n",
       "      <td>0</td>\n",
       "      <td>37</td>\n",
       "      <td>2</td>\n",
       "      <td>1</td>\n",
       "      <td>2</td>\n",
       "      <td>2</td>\n",
       "      <td>2</td>\n",
       "      <td>2</td>\n",
       "      <td>2</td>\n",
       "      <td>2</td>\n",
       "      <td>...</td>\n",
       "      <td>1</td>\n",
       "      <td>1</td>\n",
       "      <td>2</td>\n",
       "      <td>2</td>\n",
       "      <td>8.6</td>\n",
       "      <td>7.6</td>\n",
       "      <td>6</td>\n",
       "      <td>2</td>\n",
       "      <td>1</td>\n",
       "      <td>20.0</td>\n",
       "    </tr>\n",
       "    <tr>\n",
       "      <th>1</th>\n",
       "      <td>1</td>\n",
       "      <td>55</td>\n",
       "      <td>1</td>\n",
       "      <td>1</td>\n",
       "      <td>2</td>\n",
       "      <td>2</td>\n",
       "      <td>1</td>\n",
       "      <td>2</td>\n",
       "      <td>2</td>\n",
       "      <td>2</td>\n",
       "      <td>...</td>\n",
       "      <td>1</td>\n",
       "      <td>1</td>\n",
       "      <td>2</td>\n",
       "      <td>2</td>\n",
       "      <td>9.4</td>\n",
       "      <td>8.1</td>\n",
       "      <td>4</td>\n",
       "      <td>2</td>\n",
       "      <td>1</td>\n",
       "      <td>19.0</td>\n",
       "    </tr>\n",
       "    <tr>\n",
       "      <th>2</th>\n",
       "      <td>2</td>\n",
       "      <td>58</td>\n",
       "      <td>1</td>\n",
       "      <td>1</td>\n",
       "      <td>2</td>\n",
       "      <td>2</td>\n",
       "      <td>1</td>\n",
       "      <td>1</td>\n",
       "      <td>2</td>\n",
       "      <td>2</td>\n",
       "      <td>...</td>\n",
       "      <td>1</td>\n",
       "      <td>1</td>\n",
       "      <td>1</td>\n",
       "      <td>1</td>\n",
       "      <td>19.3</td>\n",
       "      <td>6.1</td>\n",
       "      <td>1</td>\n",
       "      <td>2</td>\n",
       "      <td>3</td>\n",
       "      <td>14.0</td>\n",
       "    </tr>\n",
       "    <tr>\n",
       "      <th>3</th>\n",
       "      <td>3</td>\n",
       "      <td>73</td>\n",
       "      <td>2</td>\n",
       "      <td>3</td>\n",
       "      <td>1</td>\n",
       "      <td>2</td>\n",
       "      <td>1</td>\n",
       "      <td>2</td>\n",
       "      <td>2</td>\n",
       "      <td>2</td>\n",
       "      <td>...</td>\n",
       "      <td>1</td>\n",
       "      <td>1</td>\n",
       "      <td>2</td>\n",
       "      <td>2</td>\n",
       "      <td>13.2</td>\n",
       "      <td>8.1</td>\n",
       "      <td>1</td>\n",
       "      <td>2</td>\n",
       "      <td>3</td>\n",
       "      <td>3.0</td>\n",
       "    </tr>\n",
       "    <tr>\n",
       "      <th>4</th>\n",
       "      <td>4</td>\n",
       "      <td>58</td>\n",
       "      <td>1</td>\n",
       "      <td>3</td>\n",
       "      <td>1</td>\n",
       "      <td>2</td>\n",
       "      <td>2</td>\n",
       "      <td>2</td>\n",
       "      <td>2</td>\n",
       "      <td>2</td>\n",
       "      <td>...</td>\n",
       "      <td>1</td>\n",
       "      <td>1</td>\n",
       "      <td>1</td>\n",
       "      <td>2</td>\n",
       "      <td>7.5</td>\n",
       "      <td>7.5</td>\n",
       "      <td>6</td>\n",
       "      <td>2</td>\n",
       "      <td>3</td>\n",
       "      <td>13.0</td>\n",
       "    </tr>\n",
       "  </tbody>\n",
       "</table>\n",
       "<p>5 rows × 34 columns</p>\n",
       "</div>"
      ],
      "text/plain": [
       "   Unnamed: 0  age  sex  race  smoking  alcohol  hpt  dm  ihd  ccf  ...    \\\n",
       "0           0   37    2     1        2        2    2   2    2    2  ...     \n",
       "1           1   55    1     1        2        2    1   2    2    2  ...     \n",
       "2           2   58    1     1        2        2    1   1    2    2  ...     \n",
       "3           3   73    2     3        1        2    1   2    2    2  ...     \n",
       "4           4   58    1     3        1        2    2   2    2    2  ...     \n",
       "\n",
       "   puprefl  dollsign  reflexes  babinski   wbc  rbs  abg  intubtn  status  \\\n",
       "0        1         1         2         2   8.6  7.6    6        2       1   \n",
       "1        1         1         2         2   9.4  8.1    4        2       1   \n",
       "2        1         1         1         1  19.3  6.1    1        2       3   \n",
       "3        1         1         2         2  13.2  8.1    1        2       3   \n",
       "4        1         1         1         2   7.5  7.5    6        2       3   \n",
       "\n",
       "   hosty  \n",
       "0   20.0  \n",
       "1   19.0  \n",
       "2   14.0  \n",
       "3    3.0  \n",
       "4   13.0  \n",
       "\n",
       "[5 rows x 34 columns]"
      ]
     },
     "execution_count": 4,
     "metadata": {},
     "output_type": "execute_result"
    }
   ],
   "source": [
    "df.head()"
   ]
  },
  {
   "cell_type": "code",
   "execution_count": 5,
   "metadata": {
    "collapsed": false
   },
   "outputs": [
    {
     "data": {
      "text/html": [
       "<div>\n",
       "<table border=\"1\" class=\"dataframe\">\n",
       "  <thead>\n",
       "    <tr style=\"text-align: right;\">\n",
       "      <th></th>\n",
       "      <th>Unnamed: 0</th>\n",
       "      <th>age</th>\n",
       "      <th>sex</th>\n",
       "      <th>race</th>\n",
       "      <th>smoking</th>\n",
       "      <th>alcohol</th>\n",
       "      <th>hpt</th>\n",
       "      <th>dm</th>\n",
       "      <th>ihd</th>\n",
       "      <th>ccf</th>\n",
       "      <th>...</th>\n",
       "      <th>puprefl</th>\n",
       "      <th>dollsign</th>\n",
       "      <th>reflexes</th>\n",
       "      <th>babinski</th>\n",
       "      <th>wbc</th>\n",
       "      <th>rbs</th>\n",
       "      <th>abg</th>\n",
       "      <th>intubtn</th>\n",
       "      <th>status</th>\n",
       "      <th>hosty</th>\n",
       "    </tr>\n",
       "  </thead>\n",
       "  <tbody>\n",
       "    <tr>\n",
       "      <th>214</th>\n",
       "      <td>214</td>\n",
       "      <td>38</td>\n",
       "      <td>1</td>\n",
       "      <td>1</td>\n",
       "      <td>1</td>\n",
       "      <td>2</td>\n",
       "      <td>1</td>\n",
       "      <td>2</td>\n",
       "      <td>2</td>\n",
       "      <td>2</td>\n",
       "      <td>...</td>\n",
       "      <td>1</td>\n",
       "      <td>1</td>\n",
       "      <td>1</td>\n",
       "      <td>3</td>\n",
       "      <td>15.7</td>\n",
       "      <td>5.7</td>\n",
       "      <td>6</td>\n",
       "      <td>2</td>\n",
       "      <td>1</td>\n",
       "      <td>23.00</td>\n",
       "    </tr>\n",
       "    <tr>\n",
       "      <th>215</th>\n",
       "      <td>215</td>\n",
       "      <td>36</td>\n",
       "      <td>1</td>\n",
       "      <td>1</td>\n",
       "      <td>2</td>\n",
       "      <td>2</td>\n",
       "      <td>2</td>\n",
       "      <td>2</td>\n",
       "      <td>2</td>\n",
       "      <td>2</td>\n",
       "      <td>...</td>\n",
       "      <td>1</td>\n",
       "      <td>1</td>\n",
       "      <td>1</td>\n",
       "      <td>1</td>\n",
       "      <td>13.1</td>\n",
       "      <td>6.2</td>\n",
       "      <td>2</td>\n",
       "      <td>2</td>\n",
       "      <td>1</td>\n",
       "      <td>5.00</td>\n",
       "    </tr>\n",
       "    <tr>\n",
       "      <th>216</th>\n",
       "      <td>216</td>\n",
       "      <td>56</td>\n",
       "      <td>1</td>\n",
       "      <td>1</td>\n",
       "      <td>1</td>\n",
       "      <td>2</td>\n",
       "      <td>1</td>\n",
       "      <td>2</td>\n",
       "      <td>2</td>\n",
       "      <td>2</td>\n",
       "      <td>...</td>\n",
       "      <td>1</td>\n",
       "      <td>1</td>\n",
       "      <td>5</td>\n",
       "      <td>4</td>\n",
       "      <td>8.5</td>\n",
       "      <td>6.7</td>\n",
       "      <td>6</td>\n",
       "      <td>2</td>\n",
       "      <td>3</td>\n",
       "      <td>2.00</td>\n",
       "    </tr>\n",
       "    <tr>\n",
       "      <th>217</th>\n",
       "      <td>217</td>\n",
       "      <td>74</td>\n",
       "      <td>2</td>\n",
       "      <td>1</td>\n",
       "      <td>1</td>\n",
       "      <td>2</td>\n",
       "      <td>2</td>\n",
       "      <td>2</td>\n",
       "      <td>2</td>\n",
       "      <td>2</td>\n",
       "      <td>...</td>\n",
       "      <td>1</td>\n",
       "      <td>1</td>\n",
       "      <td>2</td>\n",
       "      <td>2</td>\n",
       "      <td>9.1</td>\n",
       "      <td>5.9</td>\n",
       "      <td>4</td>\n",
       "      <td>2</td>\n",
       "      <td>1</td>\n",
       "      <td>0.83</td>\n",
       "    </tr>\n",
       "    <tr>\n",
       "      <th>218</th>\n",
       "      <td>218</td>\n",
       "      <td>66</td>\n",
       "      <td>1</td>\n",
       "      <td>1</td>\n",
       "      <td>1</td>\n",
       "      <td>2</td>\n",
       "      <td>1</td>\n",
       "      <td>2</td>\n",
       "      <td>2</td>\n",
       "      <td>2</td>\n",
       "      <td>...</td>\n",
       "      <td>1</td>\n",
       "      <td>1</td>\n",
       "      <td>5</td>\n",
       "      <td>5</td>\n",
       "      <td>6.7</td>\n",
       "      <td>5.2</td>\n",
       "      <td>6</td>\n",
       "      <td>1</td>\n",
       "      <td>3</td>\n",
       "      <td>0.25</td>\n",
       "    </tr>\n",
       "  </tbody>\n",
       "</table>\n",
       "<p>5 rows × 34 columns</p>\n",
       "</div>"
      ],
      "text/plain": [
       "     Unnamed: 0  age  sex  race  smoking  alcohol  hpt  dm  ihd  ccf  ...    \\\n",
       "214         214   38    1     1        1        2    1   2    2    2  ...     \n",
       "215         215   36    1     1        2        2    2   2    2    2  ...     \n",
       "216         216   56    1     1        1        2    1   2    2    2  ...     \n",
       "217         217   74    2     1        1        2    2   2    2    2  ...     \n",
       "218         218   66    1     1        1        2    1   2    2    2  ...     \n",
       "\n",
       "     puprefl  dollsign  reflexes  babinski   wbc  rbs  abg  intubtn  status  \\\n",
       "214        1         1         1         3  15.7  5.7    6        2       1   \n",
       "215        1         1         1         1  13.1  6.2    2        2       1   \n",
       "216        1         1         5         4   8.5  6.7    6        2       3   \n",
       "217        1         1         2         2   9.1  5.9    4        2       1   \n",
       "218        1         1         5         5   6.7  5.2    6        1       3   \n",
       "\n",
       "     hosty  \n",
       "214  23.00  \n",
       "215   5.00  \n",
       "216   2.00  \n",
       "217   0.83  \n",
       "218   0.25  \n",
       "\n",
       "[5 rows x 34 columns]"
      ]
     },
     "execution_count": 5,
     "metadata": {},
     "output_type": "execute_result"
    }
   ],
   "source": [
    "df.tail()"
   ]
  },
  {
   "cell_type": "markdown",
   "metadata": {},
   "source": [
    "It tells that the dataset have 219 instances and have 34 attributs including Unnamed:0 which is the index. So we need to to remove the Unnamed:0 by using iloc function to ignore the first column. And using describe function to come out with some statistic like number of instance(count), mean, standard deviation, minimun and maximum."
   ]
  },
  {
   "cell_type": "code",
   "execution_count": 6,
   "metadata": {
    "collapsed": false
   },
   "outputs": [
    {
     "data": {
      "text/html": [
       "<div>\n",
       "<table border=\"1\" class=\"dataframe\">\n",
       "  <thead>\n",
       "    <tr style=\"text-align: right;\">\n",
       "      <th></th>\n",
       "      <th>age</th>\n",
       "      <th>sex</th>\n",
       "      <th>race</th>\n",
       "      <th>smoking</th>\n",
       "      <th>alcohol</th>\n",
       "      <th>hpt</th>\n",
       "      <th>dm</th>\n",
       "      <th>ihd</th>\n",
       "      <th>ccf</th>\n",
       "    </tr>\n",
       "  </thead>\n",
       "  <tbody>\n",
       "    <tr>\n",
       "      <th>count</th>\n",
       "      <td>219.000000</td>\n",
       "      <td>219.000000</td>\n",
       "      <td>219.000000</td>\n",
       "      <td>219.000000</td>\n",
       "      <td>219.000000</td>\n",
       "      <td>219.000000</td>\n",
       "      <td>219.000000</td>\n",
       "      <td>219.000000</td>\n",
       "      <td>219.000000</td>\n",
       "    </tr>\n",
       "    <tr>\n",
       "      <th>mean</th>\n",
       "      <td>56.251142</td>\n",
       "      <td>1.456621</td>\n",
       "      <td>1.127854</td>\n",
       "      <td>1.671233</td>\n",
       "      <td>1.981735</td>\n",
       "      <td>1.415525</td>\n",
       "      <td>1.684932</td>\n",
       "      <td>1.808219</td>\n",
       "      <td>1.931507</td>\n",
       "    </tr>\n",
       "    <tr>\n",
       "      <th>std</th>\n",
       "      <td>16.914408</td>\n",
       "      <td>0.499256</td>\n",
       "      <td>0.408735</td>\n",
       "      <td>0.470841</td>\n",
       "      <td>0.134214</td>\n",
       "      <td>0.493941</td>\n",
       "      <td>0.465607</td>\n",
       "      <td>0.394604</td>\n",
       "      <td>0.253169</td>\n",
       "    </tr>\n",
       "    <tr>\n",
       "      <th>min</th>\n",
       "      <td>13.000000</td>\n",
       "      <td>1.000000</td>\n",
       "      <td>1.000000</td>\n",
       "      <td>1.000000</td>\n",
       "      <td>1.000000</td>\n",
       "      <td>1.000000</td>\n",
       "      <td>1.000000</td>\n",
       "      <td>1.000000</td>\n",
       "      <td>1.000000</td>\n",
       "    </tr>\n",
       "    <tr>\n",
       "      <th>25%</th>\n",
       "      <td>44.500000</td>\n",
       "      <td>1.000000</td>\n",
       "      <td>1.000000</td>\n",
       "      <td>1.000000</td>\n",
       "      <td>2.000000</td>\n",
       "      <td>1.000000</td>\n",
       "      <td>1.000000</td>\n",
       "      <td>2.000000</td>\n",
       "      <td>2.000000</td>\n",
       "    </tr>\n",
       "    <tr>\n",
       "      <th>50%</th>\n",
       "      <td>59.000000</td>\n",
       "      <td>1.000000</td>\n",
       "      <td>1.000000</td>\n",
       "      <td>2.000000</td>\n",
       "      <td>2.000000</td>\n",
       "      <td>1.000000</td>\n",
       "      <td>2.000000</td>\n",
       "      <td>2.000000</td>\n",
       "      <td>2.000000</td>\n",
       "    </tr>\n",
       "    <tr>\n",
       "      <th>75%</th>\n",
       "      <td>69.000000</td>\n",
       "      <td>2.000000</td>\n",
       "      <td>1.000000</td>\n",
       "      <td>2.000000</td>\n",
       "      <td>2.000000</td>\n",
       "      <td>2.000000</td>\n",
       "      <td>2.000000</td>\n",
       "      <td>2.000000</td>\n",
       "      <td>2.000000</td>\n",
       "    </tr>\n",
       "    <tr>\n",
       "      <th>max</th>\n",
       "      <td>85.000000</td>\n",
       "      <td>2.000000</td>\n",
       "      <td>3.000000</td>\n",
       "      <td>2.000000</td>\n",
       "      <td>2.000000</td>\n",
       "      <td>2.000000</td>\n",
       "      <td>2.000000</td>\n",
       "      <td>2.000000</td>\n",
       "      <td>2.000000</td>\n",
       "    </tr>\n",
       "  </tbody>\n",
       "</table>\n",
       "</div>"
      ],
      "text/plain": [
       "              age         sex        race     smoking     alcohol         hpt  \\\n",
       "count  219.000000  219.000000  219.000000  219.000000  219.000000  219.000000   \n",
       "mean    56.251142    1.456621    1.127854    1.671233    1.981735    1.415525   \n",
       "std     16.914408    0.499256    0.408735    0.470841    0.134214    0.493941   \n",
       "min     13.000000    1.000000    1.000000    1.000000    1.000000    1.000000   \n",
       "25%     44.500000    1.000000    1.000000    1.000000    2.000000    1.000000   \n",
       "50%     59.000000    1.000000    1.000000    2.000000    2.000000    1.000000   \n",
       "75%     69.000000    2.000000    1.000000    2.000000    2.000000    2.000000   \n",
       "max     85.000000    2.000000    3.000000    2.000000    2.000000    2.000000   \n",
       "\n",
       "               dm         ihd         ccf  \n",
       "count  219.000000  219.000000  219.000000  \n",
       "mean     1.684932    1.808219    1.931507  \n",
       "std      0.465607    0.394604    0.253169  \n",
       "min      1.000000    1.000000    1.000000  \n",
       "25%      1.000000    2.000000    2.000000  \n",
       "50%      2.000000    2.000000    2.000000  \n",
       "75%      2.000000    2.000000    2.000000  \n",
       "max      2.000000    2.000000    2.000000  "
      ]
     },
     "execution_count": 6,
     "metadata": {},
     "output_type": "execute_result"
    }
   ],
   "source": [
    "df_1 = df.iloc[:,1:10]\n",
    "df_1.describe()"
   ]
  },
  {
   "cell_type": "code",
   "execution_count": 7,
   "metadata": {
    "collapsed": false
   },
   "outputs": [
    {
     "data": {
      "text/html": [
       "<div>\n",
       "<table border=\"1\" class=\"dataframe\">\n",
       "  <thead>\n",
       "    <tr style=\"text-align: right;\">\n",
       "      <th></th>\n",
       "      <th>crhd</th>\n",
       "      <th>cva</th>\n",
       "      <th>asthma</th>\n",
       "      <th>renal</th>\n",
       "      <th>epilepsy</th>\n",
       "      <th>dur</th>\n",
       "      <th>hr</th>\n",
       "      <th>sbp</th>\n",
       "      <th>dbp</th>\n",
       "    </tr>\n",
       "  </thead>\n",
       "  <tbody>\n",
       "    <tr>\n",
       "      <th>count</th>\n",
       "      <td>219.000000</td>\n",
       "      <td>219.000000</td>\n",
       "      <td>219.000000</td>\n",
       "      <td>219.000000</td>\n",
       "      <td>219.000000</td>\n",
       "      <td>219.000000</td>\n",
       "      <td>219.000000</td>\n",
       "      <td>219.000000</td>\n",
       "      <td>219.000000</td>\n",
       "    </tr>\n",
       "    <tr>\n",
       "      <th>mean</th>\n",
       "      <td>1.986301</td>\n",
       "      <td>1.890411</td>\n",
       "      <td>1.890411</td>\n",
       "      <td>1.885845</td>\n",
       "      <td>1.945205</td>\n",
       "      <td>11.644292</td>\n",
       "      <td>93.762557</td>\n",
       "      <td>148.278539</td>\n",
       "      <td>82.424658</td>\n",
       "    </tr>\n",
       "    <tr>\n",
       "      <th>std</th>\n",
       "      <td>0.116503</td>\n",
       "      <td>0.313092</td>\n",
       "      <td>0.313092</td>\n",
       "      <td>0.318728</td>\n",
       "      <td>0.228100</td>\n",
       "      <td>16.951517</td>\n",
       "      <td>27.706990</td>\n",
       "      <td>46.862086</td>\n",
       "      <td>26.413048</td>\n",
       "    </tr>\n",
       "    <tr>\n",
       "      <th>min</th>\n",
       "      <td>1.000000</td>\n",
       "      <td>1.000000</td>\n",
       "      <td>1.000000</td>\n",
       "      <td>1.000000</td>\n",
       "      <td>1.000000</td>\n",
       "      <td>0.250000</td>\n",
       "      <td>0.000000</td>\n",
       "      <td>0.000000</td>\n",
       "      <td>0.000000</td>\n",
       "    </tr>\n",
       "    <tr>\n",
       "      <th>25%</th>\n",
       "      <td>2.000000</td>\n",
       "      <td>2.000000</td>\n",
       "      <td>2.000000</td>\n",
       "      <td>2.000000</td>\n",
       "      <td>2.000000</td>\n",
       "      <td>2.000000</td>\n",
       "      <td>77.000000</td>\n",
       "      <td>120.000000</td>\n",
       "      <td>70.000000</td>\n",
       "    </tr>\n",
       "    <tr>\n",
       "      <th>50%</th>\n",
       "      <td>2.000000</td>\n",
       "      <td>2.000000</td>\n",
       "      <td>2.000000</td>\n",
       "      <td>2.000000</td>\n",
       "      <td>2.000000</td>\n",
       "      <td>4.670000</td>\n",
       "      <td>93.000000</td>\n",
       "      <td>145.000000</td>\n",
       "      <td>80.000000</td>\n",
       "    </tr>\n",
       "    <tr>\n",
       "      <th>75%</th>\n",
       "      <td>2.000000</td>\n",
       "      <td>2.000000</td>\n",
       "      <td>2.000000</td>\n",
       "      <td>2.000000</td>\n",
       "      <td>2.000000</td>\n",
       "      <td>12.000000</td>\n",
       "      <td>110.000000</td>\n",
       "      <td>180.000000</td>\n",
       "      <td>95.000000</td>\n",
       "    </tr>\n",
       "    <tr>\n",
       "      <th>max</th>\n",
       "      <td>2.000000</td>\n",
       "      <td>2.000000</td>\n",
       "      <td>2.000000</td>\n",
       "      <td>2.000000</td>\n",
       "      <td>2.000000</td>\n",
       "      <td>72.000000</td>\n",
       "      <td>180.000000</td>\n",
       "      <td>260.000000</td>\n",
       "      <td>180.000000</td>\n",
       "    </tr>\n",
       "  </tbody>\n",
       "</table>\n",
       "</div>"
      ],
      "text/plain": [
       "             crhd         cva      asthma       renal    epilepsy         dur  \\\n",
       "count  219.000000  219.000000  219.000000  219.000000  219.000000  219.000000   \n",
       "mean     1.986301    1.890411    1.890411    1.885845    1.945205   11.644292   \n",
       "std      0.116503    0.313092    0.313092    0.318728    0.228100   16.951517   \n",
       "min      1.000000    1.000000    1.000000    1.000000    1.000000    0.250000   \n",
       "25%      2.000000    2.000000    2.000000    2.000000    2.000000    2.000000   \n",
       "50%      2.000000    2.000000    2.000000    2.000000    2.000000    4.670000   \n",
       "75%      2.000000    2.000000    2.000000    2.000000    2.000000   12.000000   \n",
       "max      2.000000    2.000000    2.000000    2.000000    2.000000   72.000000   \n",
       "\n",
       "               hr         sbp         dbp  \n",
       "count  219.000000  219.000000  219.000000  \n",
       "mean    93.762557  148.278539   82.424658  \n",
       "std     27.706990   46.862086   26.413048  \n",
       "min      0.000000    0.000000    0.000000  \n",
       "25%     77.000000  120.000000   70.000000  \n",
       "50%     93.000000  145.000000   80.000000  \n",
       "75%    110.000000  180.000000   95.000000  \n",
       "max    180.000000  260.000000  180.000000  "
      ]
     },
     "execution_count": 7,
     "metadata": {},
     "output_type": "execute_result"
    }
   ],
   "source": [
    "df_1 = df.iloc[:,11:20]\n",
    "df_1.describe()\n"
   ]
  },
  {
   "cell_type": "code",
   "execution_count": 8,
   "metadata": {
    "collapsed": false
   },
   "outputs": [
    {
     "data": {
      "text/html": [
       "<div>\n",
       "<table border=\"1\" class=\"dataframe\">\n",
       "  <thead>\n",
       "    <tr style=\"text-align: right;\">\n",
       "      <th></th>\n",
       "      <th>gcs</th>\n",
       "      <th>ns</th>\n",
       "      <th>papilloe</th>\n",
       "      <th>puprefl</th>\n",
       "      <th>dollsign</th>\n",
       "      <th>reflexes</th>\n",
       "      <th>babinski</th>\n",
       "      <th>wbc</th>\n",
       "      <th>rbs</th>\n",
       "    </tr>\n",
       "  </thead>\n",
       "  <tbody>\n",
       "    <tr>\n",
       "      <th>count</th>\n",
       "      <td>219.000000</td>\n",
       "      <td>219.000000</td>\n",
       "      <td>219.000000</td>\n",
       "      <td>219.000000</td>\n",
       "      <td>219.000000</td>\n",
       "      <td>219.00000</td>\n",
       "      <td>219.000000</td>\n",
       "      <td>219.000000</td>\n",
       "      <td>219.000000</td>\n",
       "    </tr>\n",
       "    <tr>\n",
       "      <th>mean</th>\n",
       "      <td>10.319635</td>\n",
       "      <td>1.917808</td>\n",
       "      <td>1.940639</td>\n",
       "      <td>1.127854</td>\n",
       "      <td>1.013699</td>\n",
       "      <td>2.43379</td>\n",
       "      <td>2.013699</td>\n",
       "      <td>12.241096</td>\n",
       "      <td>9.433333</td>\n",
       "    </tr>\n",
       "    <tr>\n",
       "      <th>std</th>\n",
       "      <td>3.384819</td>\n",
       "      <td>0.275286</td>\n",
       "      <td>0.236840</td>\n",
       "      <td>0.480921</td>\n",
       "      <td>0.116503</td>\n",
       "      <td>1.63644</td>\n",
       "      <td>1.265199</td>\n",
       "      <td>5.658318</td>\n",
       "      <td>6.675859</td>\n",
       "    </tr>\n",
       "    <tr>\n",
       "      <th>min</th>\n",
       "      <td>3.000000</td>\n",
       "      <td>1.000000</td>\n",
       "      <td>1.000000</td>\n",
       "      <td>1.000000</td>\n",
       "      <td>1.000000</td>\n",
       "      <td>1.00000</td>\n",
       "      <td>1.000000</td>\n",
       "      <td>2.300000</td>\n",
       "      <td>1.000000</td>\n",
       "    </tr>\n",
       "    <tr>\n",
       "      <th>25%</th>\n",
       "      <td>8.000000</td>\n",
       "      <td>2.000000</td>\n",
       "      <td>2.000000</td>\n",
       "      <td>1.000000</td>\n",
       "      <td>1.000000</td>\n",
       "      <td>1.00000</td>\n",
       "      <td>1.000000</td>\n",
       "      <td>8.200000</td>\n",
       "      <td>5.800000</td>\n",
       "    </tr>\n",
       "    <tr>\n",
       "      <th>50%</th>\n",
       "      <td>11.000000</td>\n",
       "      <td>2.000000</td>\n",
       "      <td>2.000000</td>\n",
       "      <td>1.000000</td>\n",
       "      <td>1.000000</td>\n",
       "      <td>2.00000</td>\n",
       "      <td>2.000000</td>\n",
       "      <td>11.600000</td>\n",
       "      <td>7.300000</td>\n",
       "    </tr>\n",
       "    <tr>\n",
       "      <th>75%</th>\n",
       "      <td>13.000000</td>\n",
       "      <td>2.000000</td>\n",
       "      <td>2.000000</td>\n",
       "      <td>1.000000</td>\n",
       "      <td>1.000000</td>\n",
       "      <td>4.00000</td>\n",
       "      <td>3.000000</td>\n",
       "      <td>14.700000</td>\n",
       "      <td>10.450000</td>\n",
       "    </tr>\n",
       "    <tr>\n",
       "      <th>max</th>\n",
       "      <td>14.000000</td>\n",
       "      <td>2.000000</td>\n",
       "      <td>2.000000</td>\n",
       "      <td>3.000000</td>\n",
       "      <td>2.000000</td>\n",
       "      <td>5.00000</td>\n",
       "      <td>5.000000</td>\n",
       "      <td>35.300000</td>\n",
       "      <td>41.700000</td>\n",
       "    </tr>\n",
       "  </tbody>\n",
       "</table>\n",
       "</div>"
      ],
      "text/plain": [
       "              gcs          ns    papilloe     puprefl    dollsign   reflexes  \\\n",
       "count  219.000000  219.000000  219.000000  219.000000  219.000000  219.00000   \n",
       "mean    10.319635    1.917808    1.940639    1.127854    1.013699    2.43379   \n",
       "std      3.384819    0.275286    0.236840    0.480921    0.116503    1.63644   \n",
       "min      3.000000    1.000000    1.000000    1.000000    1.000000    1.00000   \n",
       "25%      8.000000    2.000000    2.000000    1.000000    1.000000    1.00000   \n",
       "50%     11.000000    2.000000    2.000000    1.000000    1.000000    2.00000   \n",
       "75%     13.000000    2.000000    2.000000    1.000000    1.000000    4.00000   \n",
       "max     14.000000    2.000000    2.000000    3.000000    2.000000    5.00000   \n",
       "\n",
       "         babinski         wbc         rbs  \n",
       "count  219.000000  219.000000  219.000000  \n",
       "mean     2.013699   12.241096    9.433333  \n",
       "std      1.265199    5.658318    6.675859  \n",
       "min      1.000000    2.300000    1.000000  \n",
       "25%      1.000000    8.200000    5.800000  \n",
       "50%      2.000000   11.600000    7.300000  \n",
       "75%      3.000000   14.700000   10.450000  \n",
       "max      5.000000   35.300000   41.700000  "
      ]
     },
     "execution_count": 8,
     "metadata": {},
     "output_type": "execute_result"
    }
   ],
   "source": [
    "df_1 = df.iloc[:,21:30]\n",
    "df_1.describe()"
   ]
  },
  {
   "cell_type": "code",
   "execution_count": 9,
   "metadata": {
    "collapsed": false
   },
   "outputs": [
    {
     "data": {
      "text/html": [
       "<div>\n",
       "<table border=\"1\" class=\"dataframe\">\n",
       "  <thead>\n",
       "    <tr style=\"text-align: right;\">\n",
       "      <th></th>\n",
       "      <th>intubtn</th>\n",
       "      <th>status</th>\n",
       "      <th>hosty</th>\n",
       "    </tr>\n",
       "  </thead>\n",
       "  <tbody>\n",
       "    <tr>\n",
       "      <th>count</th>\n",
       "      <td>219.000000</td>\n",
       "      <td>219.000000</td>\n",
       "      <td>219.000000</td>\n",
       "    </tr>\n",
       "    <tr>\n",
       "      <th>mean</th>\n",
       "      <td>1.694064</td>\n",
       "      <td>1.867580</td>\n",
       "      <td>8.511438</td>\n",
       "    </tr>\n",
       "    <tr>\n",
       "      <th>std</th>\n",
       "      <td>0.461858</td>\n",
       "      <td>0.965363</td>\n",
       "      <td>8.574179</td>\n",
       "    </tr>\n",
       "    <tr>\n",
       "      <th>min</th>\n",
       "      <td>1.000000</td>\n",
       "      <td>1.000000</td>\n",
       "      <td>0.040000</td>\n",
       "    </tr>\n",
       "    <tr>\n",
       "      <th>25%</th>\n",
       "      <td>1.000000</td>\n",
       "      <td>1.000000</td>\n",
       "      <td>2.000000</td>\n",
       "    </tr>\n",
       "    <tr>\n",
       "      <th>50%</th>\n",
       "      <td>2.000000</td>\n",
       "      <td>1.000000</td>\n",
       "      <td>5.000000</td>\n",
       "    </tr>\n",
       "    <tr>\n",
       "      <th>75%</th>\n",
       "      <td>2.000000</td>\n",
       "      <td>3.000000</td>\n",
       "      <td>12.500000</td>\n",
       "    </tr>\n",
       "    <tr>\n",
       "      <th>max</th>\n",
       "      <td>2.000000</td>\n",
       "      <td>3.000000</td>\n",
       "      <td>35.000000</td>\n",
       "    </tr>\n",
       "  </tbody>\n",
       "</table>\n",
       "</div>"
      ],
      "text/plain": [
       "          intubtn      status       hosty\n",
       "count  219.000000  219.000000  219.000000\n",
       "mean     1.694064    1.867580    8.511438\n",
       "std      0.461858    0.965363    8.574179\n",
       "min      1.000000    1.000000    0.040000\n",
       "25%      1.000000    1.000000    2.000000\n",
       "50%      2.000000    1.000000    5.000000\n",
       "75%      2.000000    3.000000   12.500000\n",
       "max      2.000000    3.000000   35.000000"
      ]
     },
     "execution_count": 9,
     "metadata": {},
     "output_type": "execute_result"
    }
   ],
   "source": [
    "df_1 = df.iloc[:,31:]\n",
    "df_1.describe()"
   ]
  },
  {
   "cell_type": "markdown",
   "metadata": {},
   "source": [
    "From here we can see some information regarding to the variables. Like age, the mean is 56 years old, the youngest is 13 years old and the oldest is 85 years old. For heart rate the mean is 93, the maximum heart rate is 180 while the minimum heart rate is 0. For length of stay (hosty), minimum stay in the hospital is 1/4 days, while the highest length of stay is 35 days."
   ]
  },
  {
   "cell_type": "markdown",
   "metadata": {},
   "source": [
    "\n"
   ]
  },
  {
   "cell_type": "markdown",
   "metadata": {},
   "source": [
    "<h2><b>Data Cleaning</b></h2>"
   ]
  },
  {
   "cell_type": "markdown",
   "metadata": {},
   "source": [
    "There is no specific step, but maybe we can search for duplicate tuple in the dataset."
   ]
  },
  {
   "cell_type": "code",
   "execution_count": 10,
   "metadata": {
    "collapsed": true
   },
   "outputs": [],
   "source": [
    "df_no_duplicates = df.drop_duplicates()"
   ]
  },
  {
   "cell_type": "code",
   "execution_count": 11,
   "metadata": {
    "collapsed": false
   },
   "outputs": [
    {
     "data": {
      "text/plain": [
       "(219, 34)"
      ]
     },
     "execution_count": 11,
     "metadata": {},
     "output_type": "execute_result"
    }
   ],
   "source": [
    "df.shape"
   ]
  },
  {
   "cell_type": "markdown",
   "metadata": {},
   "source": [
    "Still same? Means there is no duplicate tuple. Go for next step is search for null."
   ]
  },
  {
   "cell_type": "code",
   "execution_count": 12,
   "metadata": {
    "collapsed": false
   },
   "outputs": [
    {
     "data": {
      "text/plain": [
       "Unnamed: 0    0\n",
       "age           0\n",
       "sex           0\n",
       "race          0\n",
       "smoking       0\n",
       "alcohol       0\n",
       "hpt           0\n",
       "dm            0\n",
       "ihd           0\n",
       "ccf           0\n",
       "af            0\n",
       "crhd          0\n",
       "cva           0\n",
       "asthma        0\n",
       "renal         0\n",
       "epilepsy      0\n",
       "dur           0\n",
       "hr            0\n",
       "sbp           0\n",
       "dbp           0\n",
       "temp          0\n",
       "gcs           0\n",
       "ns            0\n",
       "papilloe      0\n",
       "puprefl       0\n",
       "dollsign      0\n",
       "reflexes      0\n",
       "babinski      0\n",
       "wbc           0\n",
       "rbs           0\n",
       "abg           0\n",
       "intubtn       0\n",
       "status        0\n",
       "hosty         0\n",
       "dtype: int64"
      ]
     },
     "execution_count": 12,
     "metadata": {},
     "output_type": "execute_result"
    }
   ],
   "source": [
    "df.isnull().sum()"
   ]
  },
  {
   "cell_type": "markdown",
   "metadata": {},
   "source": [
    "All zero means no null value in the dataset, of course it is since the data have been cleaned by previous user. "
   ]
  },
  {
   "cell_type": "markdown",
   "metadata": {},
   "source": [
    "<b><h2>Data Transform</h2></b>"
   ]
  },
  {
   "cell_type": "code",
   "execution_count": 13,
   "metadata": {
    "collapsed": false
   },
   "outputs": [
    {
     "data": {
      "text/plain": [
       "(219, 33)"
      ]
     },
     "execution_count": 13,
     "metadata": {},
     "output_type": "execute_result"
    }
   ],
   "source": [
    "df_transform = df.iloc[:,1:]\n",
    "df_transform.shape"
   ]
  },
  {
   "cell_type": "markdown",
   "metadata": {},
   "source": [
    "For visualization later, we need to do some graph, so the value of each variable would have value that easy for us to understand and help in do analysis. For example variable sex, 1 transform to male, 2 to female. Smoking values is 1 and 2 means 1 = Yes and 2 = No."
   ]
  },
  {
   "cell_type": "code",
   "execution_count": 14,
   "metadata": {
    "collapsed": false
   },
   "outputs": [],
   "source": [
    "df_transform.loc[(df_transform.sex==1), 'sex'] = 'Male'\n",
    "df_transform.loc[(df_transform.sex==2), 'sex'] = 'Female'\n",
    "\n",
    "df_transform.loc[(df_transform.race==1), 'race'] = 'Malay'\n",
    "df_transform.loc[(df_transform.race==2), 'race'] = 'Chinese'\n",
    "df_transform.loc[(df_transform.race==3), 'race'] = 'Others'\n",
    "\n",
    "\n",
    "df_transform.loc[(df_transform.smoking==1), 'smoking'] = 'Yes'\n",
    "df_transform.loc[(df_transform.smoking==2), 'smoking'] = 'No'\n",
    "\n",
    "df_transform.loc[(df_transform.alcohol==1), 'alcohol'] = 'Yes'\n",
    "df_transform.loc[(df_transform.alcohol==2), 'alcohol'] = 'No'\n",
    "\n",
    "df_transform.loc[(df_transform.hpt==1), 'hpt'] = 'Yes'\n",
    "df_transform.loc[(df_transform.hpt==2), 'hpt'] = 'No'\n",
    "\n",
    "df_transform.loc[(df_transform.dm==1), 'dm'] = 'Yes'\n",
    "df_transform.loc[(df_transform.dm==2), 'dm'] = 'No'\n",
    "\n",
    "df_transform.loc[(df_transform.ihd==1), 'ihd'] = 'Yes'\n",
    "df_transform.loc[(df_transform.ihd==2), 'ihd'] = 'No'\n",
    "\n",
    "df_transform.loc[(df_transform.ccf==1), 'ccf'] = 'Yes'\n",
    "df_transform.loc[(df_transform.ccf==2), 'ccf'] = 'No'\n",
    "\n",
    "df_transform.loc[(df_transform.af==1), 'af'] = 'Yes'\n",
    "df_transform.loc[(df_transform.af==2), 'af'] = 'No'\n",
    "\n",
    "df_transform.loc[(df_transform.crhd==1), 'crhd'] = 'Yes'\n",
    "df_transform.loc[(df_transform.crhd==2), 'crhd'] = 'No'\n",
    "\n",
    "df_transform.loc[(df_transform.cva==1), 'cva'] = 'Yes'\n",
    "df_transform.loc[(df_transform.cva==2), 'cva'] = 'No'\n",
    "\n",
    "df_transform.loc[(df_transform.asthma==1), 'asthma'] = 'Yes'\n",
    "df_transform.loc[(df_transform.asthma==2), 'asthma'] = 'No'\n",
    "\n",
    "df_transform.loc[(df_transform.renal==1), 'renal'] = 'Yes'\n",
    "df_transform.loc[(df_transform.renal==2), 'renal'] = 'No'\n",
    "\n",
    "df_transform.loc[(df_transform.epilepsy==1), 'epilepsy'] = 'Yes'\n",
    "df_transform.loc[(df_transform.epilepsy==2), 'epilepsy'] = 'No'\n",
    "\n",
    "df_transform.loc[(df_transform.ns==1), 'ns'] = 'Yes'\n",
    "df_transform.loc[(df_transform.ns==2), 'ns'] = 'No'\n",
    "\n",
    "df_transform.loc[(df_transform.papilloe==1), 'papilloe'] = 'Yes'\n",
    "df_transform.loc[(df_transform.papilloe==2), 'papilloe'] = 'No'\n",
    "\n",
    "df_transform.loc[(df_transform.dollsign==1), 'dollsign'] = 'Yes'\n",
    "df_transform.loc[(df_transform.dollsign==2), 'dollsign'] = 'No'\n",
    "\n",
    "df_transform.loc[(df_transform.intubtn==1), 'intubtn'] = 'Yes'\n",
    "df_transform.loc[(df_transform.intubtn==2), 'intubtn'] = 'No'\n",
    "\n",
    "df_transform.loc[(df_transform.puprefl==1), 'puprefl'] = 'Bilateral Reactive'\n",
    "df_transform.loc[(df_transform.puprefl==2), 'puprefl'] = 'Unilateral Unreactive'\n",
    "df_transform.loc[(df_transform.puprefl==3), 'puprefl'] = 'Bilateral Unilateral'\n",
    "\n",
    "df_transform.loc[(df_transform.reflexes==1), 'reflexes'] = 'Normal'\n",
    "df_transform.loc[(df_transform.reflexes==2), 'reflexes'] = 'Unilateral Hyperreflexia'\n",
    "df_transform.loc[(df_transform.reflexes==3), 'reflexes'] = 'Bilateral Hyperreflexia'\n",
    "df_transform.loc[(df_transform.reflexes==4), 'reflexes'] = 'Unilateral Hyporeflexia'\n",
    "df_transform.loc[(df_transform.reflexes==5), 'reflexes'] = 'Bilateral Hyporeflexia'\n",
    "\n",
    "\n",
    "df_transform.loc[(df_transform.babinski==1), 'babinski'] = 'Normal'\n",
    "df_transform.loc[(df_transform.babinski==2), 'babinski'] = 'Unilateral Upgoing'\n",
    "df_transform.loc[(df_transform.babinski==3), 'babinski'] = 'Bilateral Upgoing'\n",
    "df_transform.loc[(df_transform.babinski==4), 'babinski'] = 'Equivocal Unilateral'\n",
    "df_transform.loc[(df_transform.babinski==5), 'babinski'] = 'Equivocal Bilateral'\n",
    "\n",
    "df_transform.loc[(df_transform.abg==1), 'abg'] = 'Metabolic Acidosis'\n",
    "df_transform.loc[(df_transform.abg==2), 'abg'] = 'Respiratory Acidosis'\n",
    "df_transform.loc[(df_transform.abg==3), 'abg'] = 'Metabolic Alkolosis'\n",
    "df_transform.loc[(df_transform.abg==4), 'abg'] = 'Respiratory Alkolosis'\n",
    "df_transform.loc[(df_transform.abg==5), 'abg'] = 'Mixed Picture'\n",
    "df_transform.loc[(df_transform.abg==6), 'abg'] = 'Normal'\n",
    "\n",
    "\n",
    "df_transform.loc[(df_transform.status==1), 'status'] = 'Awake'\n",
    "df_transform.loc[(df_transform.status==2), 'status'] = 'Comatose'\n",
    "df_transform.loc[(df_transform.status==3), 'status'] = 'Dead'\n",
    "\n",
    "\n"
   ]
  },
  {
   "cell_type": "code",
   "execution_count": 15,
   "metadata": {
    "collapsed": false
   },
   "outputs": [
    {
     "data": {
      "text/html": [
       "<div>\n",
       "<table border=\"1\" class=\"dataframe\">\n",
       "  <thead>\n",
       "    <tr style=\"text-align: right;\">\n",
       "      <th></th>\n",
       "      <th>age</th>\n",
       "      <th>sex</th>\n",
       "      <th>race</th>\n",
       "      <th>smoking</th>\n",
       "      <th>alcohol</th>\n",
       "      <th>hpt</th>\n",
       "      <th>dm</th>\n",
       "      <th>ihd</th>\n",
       "      <th>ccf</th>\n",
       "      <th>af</th>\n",
       "      <th>...</th>\n",
       "      <th>puprefl</th>\n",
       "      <th>dollsign</th>\n",
       "      <th>reflexes</th>\n",
       "      <th>babinski</th>\n",
       "      <th>wbc</th>\n",
       "      <th>rbs</th>\n",
       "      <th>abg</th>\n",
       "      <th>intubtn</th>\n",
       "      <th>status</th>\n",
       "      <th>hosty</th>\n",
       "    </tr>\n",
       "  </thead>\n",
       "  <tbody>\n",
       "    <tr>\n",
       "      <th>0</th>\n",
       "      <td>37</td>\n",
       "      <td>Female</td>\n",
       "      <td>Malay</td>\n",
       "      <td>No</td>\n",
       "      <td>No</td>\n",
       "      <td>No</td>\n",
       "      <td>No</td>\n",
       "      <td>No</td>\n",
       "      <td>No</td>\n",
       "      <td>No</td>\n",
       "      <td>...</td>\n",
       "      <td>Bilateral Reactive</td>\n",
       "      <td>Yes</td>\n",
       "      <td>Unilateral Hyperreflexia</td>\n",
       "      <td>Unilateral Upgoing</td>\n",
       "      <td>8.6</td>\n",
       "      <td>7.6</td>\n",
       "      <td>Normal</td>\n",
       "      <td>No</td>\n",
       "      <td>Awake</td>\n",
       "      <td>20.0</td>\n",
       "    </tr>\n",
       "    <tr>\n",
       "      <th>1</th>\n",
       "      <td>55</td>\n",
       "      <td>Male</td>\n",
       "      <td>Malay</td>\n",
       "      <td>No</td>\n",
       "      <td>No</td>\n",
       "      <td>Yes</td>\n",
       "      <td>No</td>\n",
       "      <td>No</td>\n",
       "      <td>No</td>\n",
       "      <td>No</td>\n",
       "      <td>...</td>\n",
       "      <td>Bilateral Reactive</td>\n",
       "      <td>Yes</td>\n",
       "      <td>Unilateral Hyperreflexia</td>\n",
       "      <td>Unilateral Upgoing</td>\n",
       "      <td>9.4</td>\n",
       "      <td>8.1</td>\n",
       "      <td>Respiratory Alkolosis</td>\n",
       "      <td>No</td>\n",
       "      <td>Awake</td>\n",
       "      <td>19.0</td>\n",
       "    </tr>\n",
       "    <tr>\n",
       "      <th>2</th>\n",
       "      <td>58</td>\n",
       "      <td>Male</td>\n",
       "      <td>Malay</td>\n",
       "      <td>No</td>\n",
       "      <td>No</td>\n",
       "      <td>Yes</td>\n",
       "      <td>Yes</td>\n",
       "      <td>No</td>\n",
       "      <td>No</td>\n",
       "      <td>No</td>\n",
       "      <td>...</td>\n",
       "      <td>Bilateral Reactive</td>\n",
       "      <td>Yes</td>\n",
       "      <td>Normal</td>\n",
       "      <td>Normal</td>\n",
       "      <td>19.3</td>\n",
       "      <td>6.1</td>\n",
       "      <td>Metabolic Acidosis</td>\n",
       "      <td>No</td>\n",
       "      <td>Dead</td>\n",
       "      <td>14.0</td>\n",
       "    </tr>\n",
       "    <tr>\n",
       "      <th>3</th>\n",
       "      <td>73</td>\n",
       "      <td>Female</td>\n",
       "      <td>Others</td>\n",
       "      <td>Yes</td>\n",
       "      <td>No</td>\n",
       "      <td>Yes</td>\n",
       "      <td>No</td>\n",
       "      <td>No</td>\n",
       "      <td>No</td>\n",
       "      <td>No</td>\n",
       "      <td>...</td>\n",
       "      <td>Bilateral Reactive</td>\n",
       "      <td>Yes</td>\n",
       "      <td>Unilateral Hyperreflexia</td>\n",
       "      <td>Unilateral Upgoing</td>\n",
       "      <td>13.2</td>\n",
       "      <td>8.1</td>\n",
       "      <td>Metabolic Acidosis</td>\n",
       "      <td>No</td>\n",
       "      <td>Dead</td>\n",
       "      <td>3.0</td>\n",
       "    </tr>\n",
       "    <tr>\n",
       "      <th>4</th>\n",
       "      <td>58</td>\n",
       "      <td>Male</td>\n",
       "      <td>Others</td>\n",
       "      <td>Yes</td>\n",
       "      <td>No</td>\n",
       "      <td>No</td>\n",
       "      <td>No</td>\n",
       "      <td>No</td>\n",
       "      <td>No</td>\n",
       "      <td>No</td>\n",
       "      <td>...</td>\n",
       "      <td>Bilateral Reactive</td>\n",
       "      <td>Yes</td>\n",
       "      <td>Normal</td>\n",
       "      <td>Unilateral Upgoing</td>\n",
       "      <td>7.5</td>\n",
       "      <td>7.5</td>\n",
       "      <td>Normal</td>\n",
       "      <td>No</td>\n",
       "      <td>Dead</td>\n",
       "      <td>13.0</td>\n",
       "    </tr>\n",
       "  </tbody>\n",
       "</table>\n",
       "<p>5 rows × 33 columns</p>\n",
       "</div>"
      ],
      "text/plain": [
       "   age     sex    race smoking alcohol  hpt   dm ihd ccf  af  ...    \\\n",
       "0   37  Female   Malay      No      No   No   No  No  No  No  ...     \n",
       "1   55    Male   Malay      No      No  Yes   No  No  No  No  ...     \n",
       "2   58    Male   Malay      No      No  Yes  Yes  No  No  No  ...     \n",
       "3   73  Female  Others     Yes      No  Yes   No  No  No  No  ...     \n",
       "4   58    Male  Others     Yes      No   No   No  No  No  No  ...     \n",
       "\n",
       "              puprefl dollsign                  reflexes            babinski  \\\n",
       "0  Bilateral Reactive      Yes  Unilateral Hyperreflexia  Unilateral Upgoing   \n",
       "1  Bilateral Reactive      Yes  Unilateral Hyperreflexia  Unilateral Upgoing   \n",
       "2  Bilateral Reactive      Yes                    Normal              Normal   \n",
       "3  Bilateral Reactive      Yes  Unilateral Hyperreflexia  Unilateral Upgoing   \n",
       "4  Bilateral Reactive      Yes                    Normal  Unilateral Upgoing   \n",
       "\n",
       "    wbc  rbs                    abg  intubtn  status  hosty  \n",
       "0   8.6  7.6                 Normal       No   Awake   20.0  \n",
       "1   9.4  8.1  Respiratory Alkolosis       No   Awake   19.0  \n",
       "2  19.3  6.1     Metabolic Acidosis       No    Dead   14.0  \n",
       "3  13.2  8.1     Metabolic Acidosis       No    Dead    3.0  \n",
       "4   7.5  7.5                 Normal       No    Dead   13.0  \n",
       "\n",
       "[5 rows x 33 columns]"
      ]
     },
     "execution_count": 15,
     "metadata": {},
     "output_type": "execute_result"
    }
   ],
   "source": [
    "df_transform.head()"
   ]
  },
  {
   "cell_type": "markdown",
   "metadata": {},
   "source": [
    "\n"
   ]
  },
  {
   "cell_type": "code",
   "execution_count": 16,
   "metadata": {
    "collapsed": false
   },
   "outputs": [
    {
     "data": {
      "text/html": [
       "<div>\n",
       "<table border=\"1\" class=\"dataframe\">\n",
       "  <thead>\n",
       "    <tr style=\"text-align: right;\">\n",
       "      <th></th>\n",
       "      <th>age</th>\n",
       "      <th>sex</th>\n",
       "      <th>race</th>\n",
       "      <th>smoking</th>\n",
       "      <th>alcohol</th>\n",
       "      <th>hpt</th>\n",
       "      <th>dm</th>\n",
       "      <th>ihd</th>\n",
       "      <th>ccf</th>\n",
       "      <th>af</th>\n",
       "      <th>...</th>\n",
       "      <th>puprefl</th>\n",
       "      <th>dollsign</th>\n",
       "      <th>reflexes</th>\n",
       "      <th>babinski</th>\n",
       "      <th>wbc</th>\n",
       "      <th>rbs</th>\n",
       "      <th>abg</th>\n",
       "      <th>intubtn</th>\n",
       "      <th>status</th>\n",
       "      <th>hosty</th>\n",
       "    </tr>\n",
       "  </thead>\n",
       "  <tbody>\n",
       "    <tr>\n",
       "      <th>214</th>\n",
       "      <td>38</td>\n",
       "      <td>Male</td>\n",
       "      <td>Malay</td>\n",
       "      <td>Yes</td>\n",
       "      <td>No</td>\n",
       "      <td>Yes</td>\n",
       "      <td>No</td>\n",
       "      <td>No</td>\n",
       "      <td>No</td>\n",
       "      <td>No</td>\n",
       "      <td>...</td>\n",
       "      <td>Bilateral Reactive</td>\n",
       "      <td>Yes</td>\n",
       "      <td>Normal</td>\n",
       "      <td>Bilateral Upgoing</td>\n",
       "      <td>15.7</td>\n",
       "      <td>5.7</td>\n",
       "      <td>Normal</td>\n",
       "      <td>No</td>\n",
       "      <td>Awake</td>\n",
       "      <td>23.00</td>\n",
       "    </tr>\n",
       "    <tr>\n",
       "      <th>215</th>\n",
       "      <td>36</td>\n",
       "      <td>Male</td>\n",
       "      <td>Malay</td>\n",
       "      <td>No</td>\n",
       "      <td>No</td>\n",
       "      <td>No</td>\n",
       "      <td>No</td>\n",
       "      <td>No</td>\n",
       "      <td>No</td>\n",
       "      <td>No</td>\n",
       "      <td>...</td>\n",
       "      <td>Bilateral Reactive</td>\n",
       "      <td>Yes</td>\n",
       "      <td>Normal</td>\n",
       "      <td>Normal</td>\n",
       "      <td>13.1</td>\n",
       "      <td>6.2</td>\n",
       "      <td>Respiratory Acidosis</td>\n",
       "      <td>No</td>\n",
       "      <td>Awake</td>\n",
       "      <td>5.00</td>\n",
       "    </tr>\n",
       "    <tr>\n",
       "      <th>216</th>\n",
       "      <td>56</td>\n",
       "      <td>Male</td>\n",
       "      <td>Malay</td>\n",
       "      <td>Yes</td>\n",
       "      <td>No</td>\n",
       "      <td>Yes</td>\n",
       "      <td>No</td>\n",
       "      <td>No</td>\n",
       "      <td>No</td>\n",
       "      <td>No</td>\n",
       "      <td>...</td>\n",
       "      <td>Bilateral Reactive</td>\n",
       "      <td>Yes</td>\n",
       "      <td>Bilateral Hyporeflexia</td>\n",
       "      <td>Equivocal Unilateral</td>\n",
       "      <td>8.5</td>\n",
       "      <td>6.7</td>\n",
       "      <td>Normal</td>\n",
       "      <td>No</td>\n",
       "      <td>Dead</td>\n",
       "      <td>2.00</td>\n",
       "    </tr>\n",
       "    <tr>\n",
       "      <th>217</th>\n",
       "      <td>74</td>\n",
       "      <td>Female</td>\n",
       "      <td>Malay</td>\n",
       "      <td>Yes</td>\n",
       "      <td>No</td>\n",
       "      <td>No</td>\n",
       "      <td>No</td>\n",
       "      <td>No</td>\n",
       "      <td>No</td>\n",
       "      <td>No</td>\n",
       "      <td>...</td>\n",
       "      <td>Bilateral Reactive</td>\n",
       "      <td>Yes</td>\n",
       "      <td>Unilateral Hyperreflexia</td>\n",
       "      <td>Unilateral Upgoing</td>\n",
       "      <td>9.1</td>\n",
       "      <td>5.9</td>\n",
       "      <td>Respiratory Alkolosis</td>\n",
       "      <td>No</td>\n",
       "      <td>Awake</td>\n",
       "      <td>0.83</td>\n",
       "    </tr>\n",
       "    <tr>\n",
       "      <th>218</th>\n",
       "      <td>66</td>\n",
       "      <td>Male</td>\n",
       "      <td>Malay</td>\n",
       "      <td>Yes</td>\n",
       "      <td>No</td>\n",
       "      <td>Yes</td>\n",
       "      <td>No</td>\n",
       "      <td>No</td>\n",
       "      <td>No</td>\n",
       "      <td>No</td>\n",
       "      <td>...</td>\n",
       "      <td>Bilateral Reactive</td>\n",
       "      <td>Yes</td>\n",
       "      <td>Bilateral Hyporeflexia</td>\n",
       "      <td>Equivocal Bilateral</td>\n",
       "      <td>6.7</td>\n",
       "      <td>5.2</td>\n",
       "      <td>Normal</td>\n",
       "      <td>Yes</td>\n",
       "      <td>Dead</td>\n",
       "      <td>0.25</td>\n",
       "    </tr>\n",
       "  </tbody>\n",
       "</table>\n",
       "<p>5 rows × 33 columns</p>\n",
       "</div>"
      ],
      "text/plain": [
       "     age     sex   race smoking alcohol  hpt  dm ihd ccf  af  ...    \\\n",
       "214   38    Male  Malay     Yes      No  Yes  No  No  No  No  ...     \n",
       "215   36    Male  Malay      No      No   No  No  No  No  No  ...     \n",
       "216   56    Male  Malay     Yes      No  Yes  No  No  No  No  ...     \n",
       "217   74  Female  Malay     Yes      No   No  No  No  No  No  ...     \n",
       "218   66    Male  Malay     Yes      No  Yes  No  No  No  No  ...     \n",
       "\n",
       "                puprefl dollsign                  reflexes  \\\n",
       "214  Bilateral Reactive      Yes                    Normal   \n",
       "215  Bilateral Reactive      Yes                    Normal   \n",
       "216  Bilateral Reactive      Yes    Bilateral Hyporeflexia   \n",
       "217  Bilateral Reactive      Yes  Unilateral Hyperreflexia   \n",
       "218  Bilateral Reactive      Yes    Bilateral Hyporeflexia   \n",
       "\n",
       "                 babinski   wbc  rbs                    abg  intubtn  status  \\\n",
       "214     Bilateral Upgoing  15.7  5.7                 Normal       No   Awake   \n",
       "215                Normal  13.1  6.2   Respiratory Acidosis       No   Awake   \n",
       "216  Equivocal Unilateral   8.5  6.7                 Normal       No    Dead   \n",
       "217    Unilateral Upgoing   9.1  5.9  Respiratory Alkolosis       No   Awake   \n",
       "218   Equivocal Bilateral   6.7  5.2                 Normal      Yes    Dead   \n",
       "\n",
       "     hosty  \n",
       "214  23.00  \n",
       "215   5.00  \n",
       "216   2.00  \n",
       "217   0.83  \n",
       "218   0.25  \n",
       "\n",
       "[5 rows x 33 columns]"
      ]
     },
     "execution_count": 16,
     "metadata": {},
     "output_type": "execute_result"
    }
   ],
   "source": [
    "df_transform.tail()"
   ]
  },
  {
   "cell_type": "markdown",
   "metadata": {},
   "source": [
    "\n"
   ]
  },
  {
   "cell_type": "markdown",
   "metadata": {},
   "source": [
    "<b><h2>Data Visualization</h2></b>"
   ]
  },
  {
   "cell_type": "markdown",
   "metadata": {},
   "source": [
    "In data visualization, we will show some information by using graph. There are certain variables that will be used in this visualization."
   ]
  },
  {
   "cell_type": "code",
   "execution_count": 18,
   "metadata": {
    "collapsed": true
   },
   "outputs": [],
   "source": [
    "df_visualization = df_transform"
   ]
  },
  {
   "cell_type": "code",
   "execution_count": 19,
   "metadata": {
    "collapsed": false
   },
   "outputs": [
    {
     "data": {
      "text/plain": [
       "<matplotlib.axes._subplots.AxesSubplot at 0x77c0530>"
      ]
     },
     "execution_count": 19,
     "metadata": {},
     "output_type": "execute_result"
    },
    {
     "data": {
      "image/png": "[encoded data removed]",
      "text/plain": [
       "<matplotlib.figure.Figure at 0x47d3db0>"
      ]
     },
     "metadata": {},
     "output_type": "display_data"
    }
   ],
   "source": [
    "fizsize_with_subplots = (20, 30)\n",
    "fig = plt.figure(figsize=fizsize_with_subplots) \n",
    "fig_dims =(6,3) \n",
    "colors = 'rgbymck'\n",
    "\n",
    "# Sex\n",
    "plt.subplot2grid(fig_dims, (0, 0))\n",
    "df_visualization['sex'].value_counts().plot(x=\"lll\",kind='bar',title='Frequency based on Sex', color=colors)\n",
    "\n",
    "# Race\n",
    "plt.subplot2grid(fig_dims, (0, 1))\n",
    "df_visualization['race'].value_counts().plot(kind='bar',title='Frequency based on Race', color=colors)\n",
    "\n",
    "# Smoking\n",
    "plt.subplot2grid(fig_dims, (0, 2))\n",
    "df_visualization['smoking'].value_counts().plot(kind='bar',title='Frequency based on smoking', color = colors)\n",
    "\n",
    "# Alcohol\n",
    "plt.subplot2grid(fig_dims, (2, 0))\n",
    "df_visualization['alcohol'].value_counts().plot(kind='bar',title='Frequency based on Alcohol', color = colors)\n",
    "\n",
    "# Hypertension\n",
    "plt.subplot2grid(fig_dims, (2, 1))\n",
    "df_visualization['hpt'].value_counts().plot(kind='bar',title='Frequency based on Hypertension', color = colors)\n",
    "\n",
    "# Status - target variable\n",
    "plt.subplot2grid(fig_dims, (2, 2))\n",
    "df_visualization['status'].value_counts().plot(kind='bar',title='Frequency based on Life Status', color = 'bym')\n",
    "\n",
    "# http://stackoverflow.com/questions/35523635/extract-values-in-pandas-value-counts\n",
    "# http://matplotlib.org/examples/api/barchart_demo.html"
   ]
  },
  {
   "cell_type": "markdown",
   "metadata": {
    "collapsed": false
   },
   "source": [
    "It is good to know that people came to the ED not because of alcohol since there is more than 95% of patient alcohol's negative and also the number of patients who are not smoking also higher than patients who are smoking. It means that majority of them live in a healthy life. Other than that mostly patients are Malay followed by Chinese and Others. Male patients are more than female patient. Patient that are alive are 6 times of comatose patient. How about we try to relate the independence variables with dependence variable(status)?"
   ]
  },
  {
   "cell_type": "code",
   "execution_count": 20,
   "metadata": {
    "collapsed": false
   },
   "outputs": [
    {
     "data": {
      "text/html": [
       "<div>\n",
       "<table border=\"1\" class=\"dataframe\">\n",
       "  <thead>\n",
       "    <tr style=\"text-align: right;\">\n",
       "      <th>status</th>\n",
       "      <th>Awake</th>\n",
       "      <th>Comatose</th>\n",
       "      <th>Dead</th>\n",
       "    </tr>\n",
       "    <tr>\n",
       "      <th>sex</th>\n",
       "      <th></th>\n",
       "      <th></th>\n",
       "      <th></th>\n",
       "    </tr>\n",
       "  </thead>\n",
       "  <tbody>\n",
       "    <tr>\n",
       "      <th>Female</th>\n",
       "      <td>60</td>\n",
       "      <td>3</td>\n",
       "      <td>37</td>\n",
       "    </tr>\n",
       "    <tr>\n",
       "      <th>Male</th>\n",
       "      <td>58</td>\n",
       "      <td>9</td>\n",
       "      <td>52</td>\n",
       "    </tr>\n",
       "  </tbody>\n",
       "</table>\n",
       "</div>"
      ],
      "text/plain": [
       "status  Awake  Comatose  Dead\n",
       "sex                          \n",
       "Female     60         3    37\n",
       "Male       58         9    52"
      ]
     },
     "execution_count": 20,
     "metadata": {},
     "output_type": "execute_result"
    }
   ],
   "source": [
    "sex_status = pd.crosstab(df_visualization['sex'],df_visualization['status'])\n",
    "sex_status"
   ]
  },
  {
   "cell_type": "code",
   "execution_count": 21,
   "metadata": {
    "collapsed": false,
    "scrolled": true
   },
   "outputs": [
    {
     "data": {
      "text/plain": [
       "<matplotlib.text.Text at 0x47b8970>"
      ]
     },
     "execution_count": 21,
     "metadata": {},
     "output_type": "execute_result"
    },
    {
     "data": {
      "image/png": "[encoded data removed]",
      "text/plain": [
       "<matplotlib.figure.Figure at 0x47c7830>"
      ]
     },
     "metadata": {},
     "output_type": "display_data"
    }
   ],
   "source": [
    "sex_status_plt = sex_status.div(sex_status.sum(1).astype(float), axis=0)\n",
    "sex_status_plt.plot(kind='bar', stacked=True, title='Status Rate by Sex')\n",
    "plt.xlabel('Sex')\n",
    "plt.ylabel('Status')"
   ]
  },
  {
   "cell_type": "code",
   "execution_count": 22,
   "metadata": {
    "collapsed": false
   },
   "outputs": [
    {
     "data": {
      "text/html": [
       "<div>\n",
       "<table border=\"1\" class=\"dataframe\">\n",
       "  <thead>\n",
       "    <tr style=\"text-align: right;\">\n",
       "      <th>status</th>\n",
       "      <th>Awake</th>\n",
       "      <th>Comatose</th>\n",
       "      <th>Dead</th>\n",
       "    </tr>\n",
       "    <tr>\n",
       "      <th>race</th>\n",
       "      <th></th>\n",
       "      <th></th>\n",
       "      <th></th>\n",
       "    </tr>\n",
       "  </thead>\n",
       "  <tbody>\n",
       "    <tr>\n",
       "      <th>Chinese</th>\n",
       "      <td>10</td>\n",
       "      <td>2</td>\n",
       "      <td>4</td>\n",
       "    </tr>\n",
       "    <tr>\n",
       "      <th>Malay</th>\n",
       "      <td>106</td>\n",
       "      <td>10</td>\n",
       "      <td>81</td>\n",
       "    </tr>\n",
       "    <tr>\n",
       "      <th>Others</th>\n",
       "      <td>2</td>\n",
       "      <td>0</td>\n",
       "      <td>4</td>\n",
       "    </tr>\n",
       "  </tbody>\n",
       "</table>\n",
       "</div>"
      ],
      "text/plain": [
       "status   Awake  Comatose  Dead\n",
       "race                          \n",
       "Chinese     10         2     4\n",
       "Malay      106        10    81\n",
       "Others       2         0     4"
      ]
     },
     "execution_count": 22,
     "metadata": {},
     "output_type": "execute_result"
    }
   ],
   "source": [
    "race_status = pd.crosstab(df_visualization['race'],df_visualization['status'])\n",
    "race_status"
   ]
  },
  {
   "cell_type": "code",
   "execution_count": 23,
   "metadata": {
    "collapsed": false
   },
   "outputs": [
    {
     "data": {
      "text/plain": [
       "<matplotlib.axes._subplots.AxesSubplot at 0x47d39b0>"
      ]
     },
     "execution_count": 23,
     "metadata": {},
     "output_type": "execute_result"
    },
    {
     "data": {
      "image/png": "[encoded data removed]",
      "text/plain": [
       "<matplotlib.figure.Figure at 0x47b4290>"
      ]
     },
     "metadata": {},
     "output_type": "display_data"
    }
   ],
   "source": [
    "race_status_plt = race_status.div(race_status.sum(1).astype(float), axis=0)\n",
    "race_status_plt.plot(kind='bar', stacked=True, title='Status Rate by Race')"
   ]
  },
  {
   "cell_type": "code",
   "execution_count": 24,
   "metadata": {
    "collapsed": false
   },
   "outputs": [
    {
     "data": {
      "text/html": [
       "<div>\n",
       "<table border=\"1\" class=\"dataframe\">\n",
       "  <thead>\n",
       "    <tr style=\"text-align: right;\">\n",
       "      <th>status</th>\n",
       "      <th>Awake</th>\n",
       "      <th>Comatose</th>\n",
       "      <th>Dead</th>\n",
       "    </tr>\n",
       "    <tr>\n",
       "      <th>smoking</th>\n",
       "      <th></th>\n",
       "      <th></th>\n",
       "      <th></th>\n",
       "    </tr>\n",
       "  </thead>\n",
       "  <tbody>\n",
       "    <tr>\n",
       "      <th>No</th>\n",
       "      <td>93</td>\n",
       "      <td>6</td>\n",
       "      <td>48</td>\n",
       "    </tr>\n",
       "    <tr>\n",
       "      <th>Yes</th>\n",
       "      <td>25</td>\n",
       "      <td>6</td>\n",
       "      <td>41</td>\n",
       "    </tr>\n",
       "  </tbody>\n",
       "</table>\n",
       "</div>"
      ],
      "text/plain": [
       "status   Awake  Comatose  Dead\n",
       "smoking                       \n",
       "No          93         6    48\n",
       "Yes         25         6    41"
      ]
     },
     "execution_count": 24,
     "metadata": {},
     "output_type": "execute_result"
    }
   ],
   "source": [
    "smoking_status = pd.crosstab(df_visualization['smoking'],df_visualization['status'])\n",
    "smoking_status"
   ]
  },
  {
   "cell_type": "code",
   "execution_count": 25,
   "metadata": {
    "collapsed": false
   },
   "outputs": [
    {
     "data": {
      "text/plain": [
       "<matplotlib.axes._subplots.AxesSubplot at 0x47c4fd0>"
      ]
     },
     "execution_count": 25,
     "metadata": {},
     "output_type": "execute_result"
    },
    {
     "data": {
      "image/png": "[encoded data removed]",
      "text/plain": [
       "<matplotlib.figure.Figure at 0x7972b70>"
      ]
     },
     "metadata": {},
     "output_type": "display_data"
    }
   ],
   "source": [
    "smoking_status_plt = smoking_status.div(smoking_status.sum(1).astype(float), axis=0)\n",
    "smoking_status_plt.plot(kind='bar', stacked=True, title='Status Rate by Smoking')"
   ]
  },
  {
   "cell_type": "code",
   "execution_count": 26,
   "metadata": {
    "collapsed": false
   },
   "outputs": [
    {
     "data": {
      "text/html": [
       "<div>\n",
       "<table border=\"1\" class=\"dataframe\">\n",
       "  <thead>\n",
       "    <tr style=\"text-align: right;\">\n",
       "      <th>status</th>\n",
       "      <th>Awake</th>\n",
       "      <th>Comatose</th>\n",
       "      <th>Dead</th>\n",
       "    </tr>\n",
       "    <tr>\n",
       "      <th>alcohol</th>\n",
       "      <th></th>\n",
       "      <th></th>\n",
       "      <th></th>\n",
       "    </tr>\n",
       "  </thead>\n",
       "  <tbody>\n",
       "    <tr>\n",
       "      <th>No</th>\n",
       "      <td>115</td>\n",
       "      <td>11</td>\n",
       "      <td>89</td>\n",
       "    </tr>\n",
       "    <tr>\n",
       "      <th>Yes</th>\n",
       "      <td>3</td>\n",
       "      <td>1</td>\n",
       "      <td>0</td>\n",
       "    </tr>\n",
       "  </tbody>\n",
       "</table>\n",
       "</div>"
      ],
      "text/plain": [
       "status   Awake  Comatose  Dead\n",
       "alcohol                       \n",
       "No         115        11    89\n",
       "Yes          3         1     0"
      ]
     },
     "execution_count": 26,
     "metadata": {},
     "output_type": "execute_result"
    }
   ],
   "source": [
    "alcohol_status = pd.crosstab(df_visualization['alcohol'],df_visualization['status'])\n",
    "alcohol_status"
   ]
  },
  {
   "cell_type": "code",
   "execution_count": 27,
   "metadata": {
    "collapsed": false
   },
   "outputs": [
    {
     "data": {
      "text/plain": [
       "<matplotlib.axes._subplots.AxesSubplot at 0x7a281b0>"
      ]
     },
     "execution_count": 27,
     "metadata": {},
     "output_type": "execute_result"
    },
    {
     "data": {
      "image/png": "[encoded data removed]",
      "text/plain": [
       "<matplotlib.figure.Figure at 0x7a17510>"
      ]
     },
     "metadata": {},
     "output_type": "display_data"
    }
   ],
   "source": [
    "alcohol_status_plt = alcohol_status.div(alcohol_status.sum(1).astype(float), axis=0)\n",
    "alcohol_status_plt.plot(kind='bar', stacked=True, title='Status Rate by Alcohol')"
   ]
  },
  {
   "cell_type": "markdown",
   "metadata": {},
   "source": [
    "From the visualization above, status for female to be alive is higher than male. This can be related with other features like smoking. Since there are more than 60% male patient, ther are more likely to die because of smoiking. But interestingly only two patients are not smoking and this is shown that mostly people live in good lifestyle.\n",
    "\n",
    "How about we extract others information like average sistolic blood pressure for hypertension and average diastolic blood pressure?"
   ]
  },
  {
   "cell_type": "code",
   "execution_count": 28,
   "metadata": {
    "collapsed": false
   },
   "outputs": [
    {
     "data": {
      "text/plain": [
       "count    128.000000\n",
       "mean     159.070312\n",
       "std       46.274121\n",
       "min        0.000000\n",
       "25%      130.000000\n",
       "50%      155.000000\n",
       "75%      190.000000\n",
       "max      260.000000\n",
       "Name: sbp, dtype: float64"
      ]
     },
     "execution_count": 28,
     "metadata": {},
     "output_type": "execute_result"
    }
   ],
   "source": [
    "sbp_hpt_yes = df_visualization['sbp'].loc[df_visualization['hpt'] == 'Yes']\n",
    "sbp_hpt_yes.describe()\n",
    "\n",
    "# Describe the variable sistolic blood pressure(sbp) with hypertension(hpt) equals to Yes"
   ]
  },
  {
   "cell_type": "code",
   "execution_count": 29,
   "metadata": {
    "collapsed": false
   },
   "outputs": [
    {
     "data": {
      "text/plain": [
       "count     91.000000\n",
       "mean     133.098901\n",
       "std       43.578806\n",
       "min        0.000000\n",
       "25%      115.000000\n",
       "50%      130.000000\n",
       "75%      160.000000\n",
       "max      235.000000\n",
       "Name: sbp, dtype: float64"
      ]
     },
     "execution_count": 29,
     "metadata": {},
     "output_type": "execute_result"
    }
   ],
   "source": [
    "sbp_hpt_no = df_visualization['sbp'].drop(sbp_hpt_yes.index)\n",
    "sbp_hpt_no.describe()\n",
    "\n",
    "# Describe the variable sistolic blood pressure(sbp) with hypertension(hpt) equals to No"
   ]
  },
  {
   "cell_type": "code",
   "execution_count": 30,
   "metadata": {
    "collapsed": false
   },
   "outputs": [
    {
     "data": {
      "text/plain": [
       "<matplotlib.axes._subplots.AxesSubplot at 0x7a69dd0>"
      ]
     },
     "execution_count": 30,
     "metadata": {},
     "output_type": "execute_result"
    },
    {
     "data": {
      "image/png": "[encoded data removed]",
      "text/plain": [
       "<matplotlib.figure.Figure at 0x7a6db30>"
      ]
     },
     "metadata": {},
     "output_type": "display_data"
    }
   ],
   "source": [
    "df_visualization.boxplot(column=['sbp'],by='hpt')\n",
    "\n",
    "# based on the information above, create boxplot"
   ]
  },
  {
   "cell_type": "code",
   "execution_count": 31,
   "metadata": {
    "collapsed": false
   },
   "outputs": [
    {
     "data": {
      "text/plain": [
       "count    128.000000\n",
       "mean      86.687500\n",
       "std       25.980838\n",
       "min        0.000000\n",
       "25%       75.000000\n",
       "50%       85.000000\n",
       "75%      100.000000\n",
       "max      180.000000\n",
       "Name: dbp, dtype: float64"
      ]
     },
     "execution_count": 31,
     "metadata": {},
     "output_type": "execute_result"
    }
   ],
   "source": [
    "dbp_hpt_yes = df_visualization['dbp'].loc[df_visualization['hpt'] == 'Yes']\n",
    "dbp_hpt_yes.describe()\n",
    "\n",
    "# Describe the variable diastolic blood pressure(dbp) with hypertension(hpt) equals to Yes"
   ]
  },
  {
   "cell_type": "code",
   "execution_count": 32,
   "metadata": {
    "collapsed": false
   },
   "outputs": [
    {
     "data": {
      "text/plain": [
       "count     91.000000\n",
       "mean      76.428571\n",
       "std       25.983817\n",
       "min        0.000000\n",
       "25%       60.000000\n",
       "50%       80.000000\n",
       "75%       90.000000\n",
       "max      150.000000\n",
       "Name: dbp, dtype: float64"
      ]
     },
     "execution_count": 32,
     "metadata": {},
     "output_type": "execute_result"
    }
   ],
   "source": [
    "dbp_hpt_no = df_visualization['dbp'].drop(dbp_hpt_yes.index)\n",
    "dbp_hpt_no.describe()\n",
    "\n",
    "# Describe the variable diastolic blood pressure(dbp) with hypertension(hpt) equals to No"
   ]
  },
  {
   "cell_type": "code",
   "execution_count": 33,
   "metadata": {
    "collapsed": false
   },
   "outputs": [
    {
     "data": {
      "text/plain": [
       "<matplotlib.axes._subplots.AxesSubplot at 0x79ac2b0>"
      ]
     },
     "execution_count": 33,
     "metadata": {},
     "output_type": "execute_result"
    },
    {
     "data": {
      "image/png": "[encoded data removed]",
      "text/plain": [
       "<matplotlib.figure.Figure at 0x7cccf90>"
      ]
     },
     "metadata": {},
     "output_type": "display_data"
    }
   ],
   "source": [
    "df_visualization.boxplot(column=['dbp'],by='hpt')"
   ]
  },
  {
   "cell_type": "markdown",
   "metadata": {},
   "source": [
    "For patient who has hyptertension, average systolic blood pressure(sbp)  is 158, while diastolic blood pressure(dbp) is 86. Otherwise for patient with negative hypertension, their average sbp is 132, dbp is 76."
   ]
  },
  {
   "cell_type": "code",
   "execution_count": 34,
   "metadata": {
    "collapsed": false
   },
   "outputs": [
    {
     "data": {
      "text/html": [
       "<div>\n",
       "<table border=\"1\" class=\"dataframe\">\n",
       "  <thead>\n",
       "    <tr style=\"text-align: right;\">\n",
       "      <th></th>\n",
       "      <th>age</th>\n",
       "      <th>sex</th>\n",
       "      <th>race</th>\n",
       "      <th>smoking</th>\n",
       "      <th>alcohol</th>\n",
       "      <th>hpt</th>\n",
       "      <th>dm</th>\n",
       "      <th>ihd</th>\n",
       "      <th>ccf</th>\n",
       "      <th>af</th>\n",
       "      <th>...</th>\n",
       "      <th>puprefl</th>\n",
       "      <th>dollsign</th>\n",
       "      <th>reflexes</th>\n",
       "      <th>babinski</th>\n",
       "      <th>wbc</th>\n",
       "      <th>rbs</th>\n",
       "      <th>abg</th>\n",
       "      <th>intubtn</th>\n",
       "      <th>status</th>\n",
       "      <th>hosty</th>\n",
       "    </tr>\n",
       "  </thead>\n",
       "  <tbody>\n",
       "    <tr>\n",
       "      <th>0</th>\n",
       "      <td>37</td>\n",
       "      <td>0</td>\n",
       "      <td>1</td>\n",
       "      <td>0</td>\n",
       "      <td>0</td>\n",
       "      <td>0</td>\n",
       "      <td>0</td>\n",
       "      <td>0</td>\n",
       "      <td>0</td>\n",
       "      <td>0</td>\n",
       "      <td>...</td>\n",
       "      <td>0</td>\n",
       "      <td>1</td>\n",
       "      <td>3</td>\n",
       "      <td>4</td>\n",
       "      <td>8.6</td>\n",
       "      <td>7.6</td>\n",
       "      <td>3</td>\n",
       "      <td>0</td>\n",
       "      <td>0</td>\n",
       "      <td>20.0</td>\n",
       "    </tr>\n",
       "    <tr>\n",
       "      <th>1</th>\n",
       "      <td>55</td>\n",
       "      <td>1</td>\n",
       "      <td>1</td>\n",
       "      <td>0</td>\n",
       "      <td>0</td>\n",
       "      <td>1</td>\n",
       "      <td>0</td>\n",
       "      <td>0</td>\n",
       "      <td>0</td>\n",
       "      <td>0</td>\n",
       "      <td>...</td>\n",
       "      <td>0</td>\n",
       "      <td>1</td>\n",
       "      <td>3</td>\n",
       "      <td>4</td>\n",
       "      <td>9.4</td>\n",
       "      <td>8.1</td>\n",
       "      <td>5</td>\n",
       "      <td>0</td>\n",
       "      <td>0</td>\n",
       "      <td>19.0</td>\n",
       "    </tr>\n",
       "    <tr>\n",
       "      <th>2</th>\n",
       "      <td>58</td>\n",
       "      <td>1</td>\n",
       "      <td>1</td>\n",
       "      <td>0</td>\n",
       "      <td>0</td>\n",
       "      <td>1</td>\n",
       "      <td>1</td>\n",
       "      <td>0</td>\n",
       "      <td>0</td>\n",
       "      <td>0</td>\n",
       "      <td>...</td>\n",
       "      <td>0</td>\n",
       "      <td>1</td>\n",
       "      <td>2</td>\n",
       "      <td>3</td>\n",
       "      <td>19.3</td>\n",
       "      <td>6.1</td>\n",
       "      <td>0</td>\n",
       "      <td>0</td>\n",
       "      <td>2</td>\n",
       "      <td>14.0</td>\n",
       "    </tr>\n",
       "    <tr>\n",
       "      <th>3</th>\n",
       "      <td>73</td>\n",
       "      <td>0</td>\n",
       "      <td>2</td>\n",
       "      <td>1</td>\n",
       "      <td>0</td>\n",
       "      <td>1</td>\n",
       "      <td>0</td>\n",
       "      <td>0</td>\n",
       "      <td>0</td>\n",
       "      <td>0</td>\n",
       "      <td>...</td>\n",
       "      <td>0</td>\n",
       "      <td>1</td>\n",
       "      <td>3</td>\n",
       "      <td>4</td>\n",
       "      <td>13.2</td>\n",
       "      <td>8.1</td>\n",
       "      <td>0</td>\n",
       "      <td>0</td>\n",
       "      <td>2</td>\n",
       "      <td>3.0</td>\n",
       "    </tr>\n",
       "    <tr>\n",
       "      <th>4</th>\n",
       "      <td>58</td>\n",
       "      <td>1</td>\n",
       "      <td>2</td>\n",
       "      <td>1</td>\n",
       "      <td>0</td>\n",
       "      <td>0</td>\n",
       "      <td>0</td>\n",
       "      <td>0</td>\n",
       "      <td>0</td>\n",
       "      <td>0</td>\n",
       "      <td>...</td>\n",
       "      <td>0</td>\n",
       "      <td>1</td>\n",
       "      <td>2</td>\n",
       "      <td>4</td>\n",
       "      <td>7.5</td>\n",
       "      <td>7.5</td>\n",
       "      <td>3</td>\n",
       "      <td>0</td>\n",
       "      <td>2</td>\n",
       "      <td>13.0</td>\n",
       "    </tr>\n",
       "  </tbody>\n",
       "</table>\n",
       "<p>5 rows × 33 columns</p>\n",
       "</div>"
      ],
      "text/plain": [
       "   age  sex  race  smoking  alcohol  hpt  dm  ihd  ccf  af  ...    puprefl  \\\n",
       "0   37    0     1        0        0    0   0    0    0   0  ...          0   \n",
       "1   55    1     1        0        0    1   0    0    0   0  ...          0   \n",
       "2   58    1     1        0        0    1   1    0    0   0  ...          0   \n",
       "3   73    0     2        1        0    1   0    0    0   0  ...          0   \n",
       "4   58    1     2        1        0    0   0    0    0   0  ...          0   \n",
       "\n",
       "   dollsign  reflexes  babinski   wbc  rbs  abg  intubtn  status  hosty  \n",
       "0         1         3         4   8.6  7.6    3        0       0   20.0  \n",
       "1         1         3         4   9.4  8.1    5        0       0   19.0  \n",
       "2         1         2         3  19.3  6.1    0        0       2   14.0  \n",
       "3         1         3         4  13.2  8.1    0        0       2    3.0  \n",
       "4         1         2         4   7.5  7.5    3        0       2   13.0  \n",
       "\n",
       "[5 rows x 33 columns]"
      ]
     },
     "execution_count": 34,
     "metadata": {},
     "output_type": "execute_result"
    }
   ],
   "source": [
    "from sklearn import preprocessing\n",
    "le = preprocessing.LabelEncoder()\n",
    "df_visualization.sex = le.fit_transform(df_visualization.sex)\n",
    "df_visualization.race = le.fit_transform(df_visualization.race)\n",
    "df_visualization.smoking = le.fit_transform(df_visualization.smoking)\n",
    "df_visualization.alcohol = le.fit_transform(df_visualization.alcohol)\n",
    "df_visualization.hpt = le.fit_transform(df_visualization.hpt)\n",
    "df_visualization.dm = le.fit_transform(df_visualization.dm)\n",
    "df_visualization.ihd = le.fit_transform(df_visualization.ihd)\n",
    "df_visualization.ccf = le.fit_transform(df_visualization.ccf)\n",
    "df_visualization.af = le.fit_transform(df_visualization.af)\n",
    "df_visualization.crhd = le.fit_transform(df_visualization.crhd)\n",
    "df_visualization.cva = le.fit_transform(df_visualization.cva)\n",
    "df_visualization.asthma = le.fit_transform(df_visualization.asthma)\n",
    "df_visualization.renal = le.fit_transform(df_visualization.renal)\n",
    "df_visualization.epilepsy = le.fit_transform(df_visualization.epilepsy)\n",
    "df_visualization.ns = le.fit_transform(df_visualization.ns)\n",
    "df_visualization.papilloe = le.fit_transform(df_visualization.papilloe)\n",
    "df_visualization.dollsign = le.fit_transform(df_visualization.dollsign)\n",
    "df_visualization.intubtn = le.fit_transform(df_visualization.intubtn)\n",
    "df_visualization.puprefl = le.fit_transform(df_visualization.puprefl)\n",
    "df_visualization.reflexes = le.fit_transform(df_visualization.reflexes)\n",
    "df_visualization.babinski = le.fit_transform(df_visualization.babinski)\n",
    "df_visualization.abg = le.fit_transform(df_visualization.abg)\n",
    "df_visualization.status = le.fit_transform(df_visualization.status)\n",
    "df_visualization.head()"
   ]
  },
  {
   "cell_type": "markdown",
   "metadata": {},
   "source": [
    "# Prediction Modelling"
   ]
  },
  {
   "cell_type": "code",
   "execution_count": 35,
   "metadata": {
    "collapsed": false
   },
   "outputs": [
    {
     "data": {
      "text/plain": [
       "age           int64\n",
       "sex           int32\n",
       "race          int32\n",
       "smoking       int32\n",
       "alcohol       int32\n",
       "hpt           int32\n",
       "dm            int32\n",
       "ihd           int32\n",
       "ccf           int32\n",
       "af            int32\n",
       "crhd          int32\n",
       "cva           int32\n",
       "asthma        int32\n",
       "renal         int32\n",
       "epilepsy      int32\n",
       "dur         float64\n",
       "hr            int64\n",
       "sbp           int64\n",
       "dbp           int64\n",
       "temp        float64\n",
       "gcs           int64\n",
       "ns            int32\n",
       "papilloe      int32\n",
       "puprefl       int32\n",
       "dollsign      int32\n",
       "reflexes      int32\n",
       "babinski      int32\n",
       "wbc         float64\n",
       "rbs         float64\n",
       "abg           int32\n",
       "intubtn       int32\n",
       "status        int32\n",
       "hosty       float64\n",
       "dtype: object"
      ]
     },
     "execution_count": 35,
     "metadata": {},
     "output_type": "execute_result"
    }
   ],
   "source": [
    "from sklearn import tree\n",
    "from sklearn.tree import export_graphviz\n",
    "from sklearn.metrics import accuracy_score\n",
    "\n",
    "train = df_visualization.sample(frac=0.7,random_state=20)\n",
    "test = df_visualization.drop(train.index)\n",
    "train.to_csv('train.csv',encoding='utf-8')\n",
    "test.to_csv('test.csv',encoding='utf-8')\n",
    "train.dtypes"
   ]
  },
  {
   "cell_type": "markdown",
   "metadata": {},
   "source": [
    "<b>Decision Tree</b>"
   ]
  },
  {
   "cell_type": "code",
   "execution_count": 40,
   "metadata": {
    "collapsed": false
   },
   "outputs": [
    {
     "name": "stdout",
     "output_type": "stream",
     "text": [
      "The best accuracy for 70/30 percentage split : 77.27%\n",
      "Random_state for percentage split : 859\n",
      "Random_state for Decision Tree : 370\n"
     ]
    }
   ],
   "source": [
    "maxi = 0\n",
    "rmax = 0\n",
    "rt = 0\n",
    "for x in range(1000):\n",
    "    train = df_visualization.sample(frac=0.7,random_state=x)\n",
    "    test = df_visualization.drop(train.index)\n",
    "    train_dis = train.iloc[:,:32]\n",
    "    train_val = train_dis.values\n",
    "    train_in = train_val[:,:31]\n",
    "    train_out = train_val[:,31]\n",
    "    \n",
    "    test_dis = test.iloc[:,:32]\n",
    "    test_val = test_dis.values\n",
    "    test_in = test_val[:,:31]\n",
    "    test_out = test_val[:,31]\n",
    "    for i in range(1000):\n",
    "        dt = tree.DecisionTreeClassifier(random_state=i)\n",
    "        dt = dt.fit(train_in,train_out)\n",
    "        score = dt.score(train_in,train_out)\n",
    "        test_predicted = dt.predict(test_in)\n",
    "        if maxi < accuracy_score(test_out,test_predicted):\n",
    "            maxi = accuracy_score(test_out,test_predicted)\n",
    "            rmax = i\n",
    "            rt = x\n",
    "        \n",
    "print(\"The best accuracy for 70/30 percentage split : {:.2f}%\\nRandom_state for percentage split : {}\\nRandom_state for Decision Tree : {}\".format(maxi*100,rt,rmax))"
   ]
  },
  {
   "cell_type": "code",
   "execution_count": 41,
   "metadata": {
    "collapsed": false
   },
   "outputs": [
    {
     "name": "stdout",
     "output_type": "stream",
     "text": [
      "The best accuracy for 75/25 percentage split :  78.18%\n",
      "Random_state for percentage split : 37\n",
      "Random_state for Decision Tree : 284\n"
     ]
    }
   ],
   "source": [
    "maxi = 0\n",
    "rmax = 0\n",
    "rt = 0\n",
    "for x in range(1000):\n",
    "    train = df_visualization.sample(frac=0.75,random_state=x)\n",
    "    test = df_visualization.drop(train.index)\n",
    "\n",
    "    train_dis = train.iloc[:,:32]\n",
    "    train_val = train_dis.values\n",
    "    train_in = train_val[:,:31]\n",
    "    train_out = train_val[:,31]\n",
    "    \n",
    "    test_dis = test.iloc[:,:32]\n",
    "    test_val = test_dis.values\n",
    "    test_in = test_val[:,:31]\n",
    "    test_out = test_val[:,31]\n",
    "    for i in range(1000):\n",
    "        dt = tree.DecisionTreeClassifier(random_state=i)\n",
    "        dt = dt.fit(train_in,train_out)\n",
    "        score = dt.score(train_in,train_out)\n",
    "        test_predicted = dt.predict(test_in)\n",
    "        if maxi < accuracy_score(test_out,test_predicted):\n",
    "            maxi = accuracy_score(test_out,test_predicted)\n",
    "            rmax = i\n",
    "            rt = x\n",
    "        \n",
    "print(\"The best accuracy for 75/25 percentage split :  {:.2f}%\\nRandom_state for percentage split : {}\\nRandom_state for Decision Tree : {}\".format(maxi*100,rt,rmax))"
   ]
  },
  {
   "cell_type": "code",
   "execution_count": 42,
   "metadata": {
    "collapsed": false
   },
   "outputs": [
    {
     "name": "stdout",
     "output_type": "stream",
     "text": [
      "The best accuracy for 80/20 percentage split : 79.55%\n",
      "Random_state for percentage split : 141\n",
      "Random_state for Decision Tree : 98\n"
     ]
    }
   ],
   "source": [
    "maxi = 0\n",
    "rmax = 0\n",
    "rt = 0\n",
    "for x in range(1000):\n",
    "    train = df_visualization.sample(frac=0.8,random_state=x)\n",
    "    test = df_visualization.drop(train.index)\n",
    "\n",
    "    train_dis = train.iloc[:,:32]\n",
    "    train_val = train_dis.values\n",
    "    train_in = train_val[:,:31]\n",
    "    train_out = train_val[:,31]\n",
    "    \n",
    "    test_dis = test.iloc[:,:32]\n",
    "    test_val = test_dis.values\n",
    "    test_in = test_val[:,:31]\n",
    "    test_out = test_val[:,31]\n",
    "    for i in range(1000):\n",
    "        dt = tree.DecisionTreeClassifier(random_state=i)\n",
    "        dt = dt.fit(train_in,train_out)\n",
    "        score = dt.score(train_in,train_out)\n",
    "        test_predicted = dt.predict(test_in)\n",
    "        if maxi < accuracy_score(test_out,test_predicted):\n",
    "            maxi = accuracy_score(test_out,test_predicted)\n",
    "            rmax = i\n",
    "            rt = x\n",
    "        \n",
    "print(\"The best accuracy for 80/20 percentage split : {:.2f}%\\nRandom_state for percentage split : {}\\nRandom_state for Decision Tree : {}\".format(maxi*100,rt,rmax))"
   ]
  },
  {
   "cell_type": "code",
   "execution_count": 43,
   "metadata": {
    "collapsed": false
   },
   "outputs": [
    {
     "name": "stdout",
     "output_type": "stream",
     "text": [
      "The best accuracy for 85/15 percentage split : 84.85%\n",
      "Random_state for percentage split : 290\n",
      "Random_state for Decision Tree : 7\n"
     ]
    }
   ],
   "source": [
    "maxi = 0\n",
    "rmax = 0\n",
    "rt = 0\n",
    "for x in range(1000):\n",
    "    train = df_visualization.sample(frac=0.85,random_state=x)\n",
    "    test = df_visualization.drop(train.index)\n",
    "\n",
    "    train_dis = train.iloc[:,:32]\n",
    "    train_val = train_dis.values\n",
    "    train_in = train_val[:,:31]\n",
    "    train_out = train_val[:,31]\n",
    "    \n",
    "    test_dis = test.iloc[:,:32]\n",
    "    test_val = test_dis.values\n",
    "    test_in = test_val[:,:31]\n",
    "    test_out = test_val[:,31]\n",
    "    for i in range(1000):\n",
    "        dt = tree.DecisionTreeClassifier(random_state=i)\n",
    "        dt = dt.fit(train_in,train_out)\n",
    "        score = dt.score(train_in,train_out)\n",
    "        test_predicted = dt.predict(test_in)\n",
    "        if maxi < accuracy_score(test_out,test_predicted):\n",
    "            maxi = accuracy_score(test_out,test_predicted)\n",
    "            rmax = i\n",
    "            rt = x\n",
    "        \n",
    "print(\"The best accuracy for 85/15 percentage split : {:.2f}%\\nRandom_state for percentage split : {}\\nRandom_state for Decision Tree : {}\".format(maxi*100,rt,rmax))"
   ]
  },
  {
   "cell_type": "code",
   "execution_count": 44,
   "metadata": {
    "collapsed": false
   },
   "outputs": [
    {
     "name": "stdout",
     "output_type": "stream",
     "text": [
      "The best accuracy for 90/10 percentage split : 90.91%\n",
      "Random_state for percentage split : 537\n",
      "Random_state for Decision Tree : 71\n"
     ]
    }
   ],
   "source": [
    "maxi = 0\n",
    "rmax = 0\n",
    "rt = 0\n",
    "for x in range(1000):\n",
    "    train = df_visualization.sample(frac=0.9,random_state=x)\n",
    "    test = df_visualization.drop(train.index)\n",
    "\n",
    "    train_dis = train.iloc[:,:32]\n",
    "    train_val = train_dis.values\n",
    "    train_in = train_val[:,:31]\n",
    "    train_out = train_val[:,31]\n",
    "    \n",
    "    test_dis = test.iloc[:,:32]\n",
    "    test_val = test_dis.values\n",
    "    test_in = test_val[:,:31]\n",
    "    test_out = test_val[:,31]\n",
    "    for i in range(1000):\n",
    "        dt = tree.DecisionTreeClassifier(random_state=i)\n",
    "        dt = dt.fit(train_in,train_out)\n",
    "        score = dt.score(train_in,train_out)\n",
    "        test_predicted = dt.predict(test_in)\n",
    "        if maxi < accuracy_score(test_out,test_predicted):\n",
    "            maxi = accuracy_score(test_out,test_predicted)\n",
    "            rmax = i\n",
    "            rt = x\n",
    "        \n",
    "print(\"The best accuracy for 90/10 percentage split : {:.2f}%\\nRandom_state for percentage split : {}\\nRandom_state for Decision Tree : {}\".format(maxi*100,rt,rmax))"
   ]
  },
  {
   "cell_type": "code",
   "execution_count": 45,
   "metadata": {
    "collapsed": false
   },
   "outputs": [
    {
     "name": "stdout",
     "output_type": "stream",
     "text": [
      "The best accuracy is : 90.91%\n"
     ]
    }
   ],
   "source": [
    "train = df_visualization.sample(frac=0.9,random_state=537)\n",
    "test = df_visualization.drop(train.index)\n",
    "\n",
    "train.to_csv('train.csv',encoding='utf-8')\n",
    "test.to_csv('test.csv',encoding='utf-8')\n",
    "\n",
    "train_dis = train.iloc[:,0:32]\n",
    "train_val = train_dis.values\n",
    "train_in = train_val[:,:31]\n",
    "train_out = train_val[:,31]\n",
    "\n",
    "test_dis = test.iloc[:,0:32]\n",
    "test_val = test_dis.values\n",
    "test_in = test_val[:,:31]\n",
    "test_out = test_val[:,31]\n",
    "\n",
    "dt = tree.DecisionTreeClassifier(random_state=71)\n",
    "dt = dt.fit(train_in,train_out)\n",
    "score = dt.score(train_in,train_out)\n",
    "test_predicted = dt.predict(test_in)\n",
    "\n",
    "        \n",
    "print(\"The best accuracy is : {:.2f}%\".format(accuracy_score(test_out,test_predicted)*100))"
   ]
  },
  {
   "cell_type": "markdown",
   "metadata": {
    "collapsed": true
   },
   "source": [
    "<table>\n",
    "    <tr>\n",
    "        <th>\n",
    "            Percentage split (training/testing)\n",
    "        </th>\n",
    "        <th>\n",
    "            Accuracy (%)\n",
    "        </th>\n",
    "    </tr>\n",
    "    <tr>\n",
    "        <td>\n",
    "            70/30\n",
    "        </td>\n",
    "        <td>\n",
    "            77.27%\n",
    "        </td>\n",
    "    </tr>\n",
    "    <tr>\n",
    "        <td>\n",
    "            75/25\n",
    "        </td>\n",
    "        <td>\n",
    "            78.18%\n",
    "        </td>\n",
    "    </tr>\n",
    "    <tr>\n",
    "        <td>\n",
    "            80/20\n",
    "        </td>\n",
    "        <td>\n",
    "            79.55%\n",
    "        </td>\n",
    "    </tr>\n",
    "    <tr>\n",
    "        <td>\n",
    "            85/15\n",
    "        </td>\n",
    "        <td>\n",
    "            84.85%\n",
    "        </td>\n",
    "    </tr>\n",
    "    <tr>\n",
    "        <td>\n",
    "            90/10\n",
    "        </td>\n",
    "        <td>\n",
    "            90.91%\n",
    "        </td>\n",
    "    </tr>\n",
    "</table>\n",
    "\n",
    "By using Decision Tree as the classifier model to predict the outcome of mortality of patient with altered state of conciousness, we get 90.91% with percentage split 90% training and 10% testing. Same with highest accuracy from analysis-1-ver1. But different in other percentage split such as 75%, 80% and 85%, where this time it show decreases in accuracy."
   ]
  },
  {
   "cell_type": "markdown",
   "metadata": {},
   "source": [
    "<b>Visualizing the tree</b>"
   ]
  },
  {
   "cell_type": "code",
   "execution_count": 46,
   "metadata": {
    "collapsed": false
   },
   "outputs": [
    {
     "name": "stdout",
     "output_type": "stream",
     "text": [
      "['age', 'sex', 'race', 'smoking', 'alcohol', 'hpt', 'dm', 'ihd', 'ccf', 'af', 'crhd', 'cva', 'asthma', 'renal', 'epilepsy', 'dur', 'hr', 'sbp', 'dbp', 'temp', 'gcs', 'ns', 'papilloe', 'puprefl', 'dollsign', 'reflexes', 'babinski', 'wbc', 'rbs', 'abg', 'intubtn']\n"
     ]
    }
   ],
   "source": [
    "feature = list(df_visualization.columns[0:31])\n",
    "print(feature)"
   ]
  },
  {
   "cell_type": "code",
   "execution_count": 47,
   "metadata": {
    "collapsed": false
   },
   "outputs": [
    {
     "data": {
      "image/png": "[encoded data removed]",
      "text/plain": [
       "<IPython.core.display.Image object>"
      ]
     },
     "execution_count": 47,
     "metadata": {},
     "output_type": "execute_result"
    }
   ],
   "source": [
    "import pydotplus\n",
    "from sklearn.externals.six import StringIO\n",
    "from IPython.display import Image\n",
    "\n",
    "f = StringIO()\n",
    "export_graphviz(dt, out_file=f,feature_names=feature)\n",
    "graph = pydotplus.graph_from_dot_data(f.getvalue())\n",
    "Image(graph.create_png())"
   ]
  },
  {
   "cell_type": "markdown",
   "metadata": {},
   "source": [
    "Here we get different decision tree diagram, where the root node is glasgow coma scale(gcs). But same like decision tree diagram before, it is hard to read because the value calculated is not in categorical value."
   ]
  },
  {
   "cell_type": "markdown",
   "metadata": {},
   "source": [
    "# Conclusion"
   ]
  },
  {
   "cell_type": "markdown",
   "metadata": {},
   "source": [
    "Actually this analysis same like before but with different technique of transformation(maybe?). And we get same highest accuracy with 90.91%. After this we will see the highest accuracy if using one"
   ]
  },
  {
   "cell_type": "code",
   "execution_count": null,
   "metadata": {
    "collapsed": true
   },
   "outputs": [],
   "source": [
    "\n"
   ]
  }
 ],
 "metadata": {
  "anaconda-cloud": {},
  "kernelspec": {
   "display_name": "Python 3",
   "language": "python",
   "name": "python3"
  },
  "language_info": {
   "codemirror_mode": {
    "name": "ipython",
    "version": 3
   },
   "file_extension": ".py",
   "mimetype": "text/x-python",
   "name": "python",
   "nbconvert_exporter": "python",
   "pygments_lexer": "ipython3",
   "version": "3.5.2"
  }
 },
 "nbformat": 4,
 "nbformat_minor": 1
}
